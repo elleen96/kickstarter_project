{
 "cells": [
  {
   "cell_type": "markdown",
   "metadata": {},
   "source": [
    "Kickstarter is one of the biggest crowdfunding platforms in the world and allows people from all over the globe to back new inventions and creative projects that capture their interest, ranging from Arts/Comics to Tech Design and Music. Since its launch in 2009, the crowdfunding platform has raised over USD 4.6 billion and continues to raise over USD 1.5 million a day. It operates on an all-or-nothing model, and funds are only released if a campaign meets its funding goal by the deadline. \n",
    "\n",
    "The dataset used in this project was obtained from webrobots.io, an online webscraper service. It includes all Kickstarter campaigns from March 2016 to July 2020. The aim of this project is to identify the common characteristics of successful projects and thus increase the likelihood of a future project succeeding, and to train a machine learning model that is able to accurately predict whether or not a campaign was successful. "
   ]
  },
  {
   "cell_type": "code",
   "execution_count": 222,
   "metadata": {},
   "outputs": [],
   "source": [
    "from IPython.core.interactiveshell import InteractiveShell\n",
    "InteractiveShell.ast_node_interactivity = \"all\"\n",
    "import numpy as np\n",
    "import pandas as pd\n",
    "import seaborn as sns\n",
    "import matplotlib.pyplot as plt\n",
    "from mpl_toolkits.mplot3d import Axes3D\n",
    "import matplotlib as mpl\n",
    "import glob\n",
    "import os\n",
    "import datetime\n",
    "import dateutil.relativedelta\n",
    "from sklearn.feature_selection import SelectFromModel\n",
    "from sklearn.metrics import accuracy_score\n",
    "from sklearn.model_selection import train_test_split\n",
    "from sklearn.ensemble import RandomForestClassifier\n",
    "from sklearn.metrics import confusion_matrix\n",
    "%matplotlib inline\n"
   ]
  },
  {
   "cell_type": "markdown",
   "metadata": {},
   "source": [
    "The complete dataset was stored in 57 separate CSV files. The files were combined using glob and concat, and the resulting CSV has 209,445 rows and 41 columns. "
   ]
  },
  {
   "cell_type": "code",
   "execution_count": 223,
   "metadata": {},
   "outputs": [
    {
     "data": {
      "text/plain": [
       "(209445, 41)"
      ]
     },
     "execution_count": 223,
     "metadata": {},
     "output_type": "execute_result"
    }
   ],
   "source": [
    "#Dataset from https://webrobots.io/kickstarter-datasets/\n",
    "#Source Code: https://stackoverflow.com/questions/52289386/loading-multiple-csv-files-of-a-folder-into-one-dataframe\n",
    "\n",
    "all_filenames = [i for i in glob.glob('data/*.csv')]    \n",
    "df = pd.concat([pd.read_csv(f, encoding = 'unicode escape') for f in all_filenames ]) \n",
    "df.shape"
   ]
  },
  {
   "cell_type": "markdown",
   "metadata": {},
   "source": [
    "# Data Cleaning and Feature Engineering"
   ]
  },
  {
   "cell_type": "code",
   "execution_count": 224,
   "metadata": {},
   "outputs": [
    {
     "data": {
      "text/plain": [
       "Index(['backers_count', 'blurb', 'category', 'converted_pledged_amount',\n",
       "       'country', 'country_displayable_name', 'created_at', 'creator',\n",
       "       'currency', 'currency_symbol', 'currency_trailing_code',\n",
       "       'current_currency', 'deadline', 'disable_communication', 'friends',\n",
       "       'fx_rate', 'goal', 'id', 'is_backing', 'is_starrable', 'is_starred',\n",
       "       'last_update_published_at', 'launched_at', 'location', 'name',\n",
       "       'permissions', 'photo', 'pledged', 'profile', 'slug', 'source_url',\n",
       "       'spotlight', 'staff_pick', 'state', 'state_changed_at',\n",
       "       'static_usd_rate', 'unread_messages_count', 'unseen_activity_count',\n",
       "       'urls', 'usd_pledged', 'usd_type'],\n",
       "      dtype='object')"
      ]
     },
     "execution_count": 224,
     "metadata": {},
     "output_type": "execute_result"
    }
   ],
   "source": [
    "df.columns"
   ]
  },
  {
   "cell_type": "markdown",
   "metadata": {},
   "source": [
    "Column descriptions are as follows:\n",
    "\n",
    "backers_count : The number of backers that contributed to a project \n",
    "\n",
    "blurb: Description of the project \n",
    "\n",
    "category: The category that the project falls under. Examples of categories include Arts, Comics, Craft, Design, Fashion, and Journalism.\n",
    "\n",
    "converted_pledged_amount: Amount pledged, converted to the currency in 'current_currency'\n",
    "\n",
    "country: Country where the project creator is from (country code) \n",
    "\n",
    "country_displayable_name: Country where the project creator is from (full country name)\n",
    "\n",
    "created_at: Time and date when the project was created (Unix time)\n",
    "\n",
    "creator: ID and name of project creator\n",
    "\n",
    "currency: Original currency of project \n",
    "\n",
    "currency_symbol: Original currency symbol of project\n",
    "\n",
    "currency_trailing_code: Unclear (Returns true or false) \n",
    "\n",
    "current_currency: Currency currently used by project \n",
    "\n",
    "deadline: Time and date when project closes and no more funds are accepted \n",
    "\n",
    "disable_communication: Whether or not backers can communicate with the project creator \n",
    " \n",
    "friends: Unclear (null values) \n",
    "\n",
    "fx_rate: Fx rate between original currency and current currency \n",
    "       \n",
    "goal: Amount the project creator aims to raise \n",
    "\n",
    "id: Unique project ID\n",
    "       \n",
    "is_backing: Unclear (mostly null values) \n",
    "       \n",
    "is_starrable: Whether or not a project can be starred\n",
    "       \n",
    "is_starred: Whether or not a project is starred \n",
    "\n",
    "last_update_published_at: When the project was last updated (null values) \n",
    "\n",
    "launched_at: Time and date the project was launched to the public (Unix time) \n",
    "\n",
    "location: City where the project creator is from \n",
    "\n",
    "name: Name of project \n",
    "\n",
    "permissions: Unclear (null values) \n",
    "\n",
    "photo: Link to project photos\n",
    "\n",
    "pledged: Amount pledged in current currency \n",
    "\n",
    "profile: Contains incomplete information on projects\n",
    "\n",
    "slug: Name of projects with hyphens\n",
    "\n",
    "source_url: URL of project category\n",
    "\n",
    "spotlight: Whether or not the project creator created a central hub for the project after successful funding \n",
    "\n",
    "staff_pick: Whether or not the project was a staff pick (True or false) \n",
    "\n",
    "state: Target variable - whether a project succeeded or failed \n",
    "\n",
    "state_changed_at: Time and date when project state was changed (Unix time)\n",
    "\n",
    "static_usd_rate: Conversion rate between original currency and USD \n",
    "\n",
    "unread_messages_count: Unclear (null values) \n",
    "\n",
    "unseen_activity_count: Unclear (null values) \n",
    "\n",
    "urls: Project URL \n",
    "\n",
    "usd_pledged: Amount pledged in USD \n",
    "usd_type: Domestic or international "
   ]
  },
  {
   "cell_type": "code",
   "execution_count": 225,
   "metadata": {},
   "outputs": [
    {
     "data": {
      "text/html": [
       "<div>\n",
       "<style scoped>\n",
       "    .dataframe tbody tr th:only-of-type {\n",
       "        vertical-align: middle;\n",
       "    }\n",
       "\n",
       "    .dataframe tbody tr th {\n",
       "        vertical-align: top;\n",
       "    }\n",
       "\n",
       "    .dataframe thead th {\n",
       "        text-align: right;\n",
       "    }\n",
       "</style>\n",
       "<table border=\"1\" class=\"dataframe\">\n",
       "  <thead>\n",
       "    <tr style=\"text-align: right;\">\n",
       "      <th></th>\n",
       "      <th>backers_count</th>\n",
       "      <th>blurb</th>\n",
       "      <th>category</th>\n",
       "      <th>converted_pledged_amount</th>\n",
       "      <th>country</th>\n",
       "      <th>country_displayable_name</th>\n",
       "      <th>created_at</th>\n",
       "      <th>creator</th>\n",
       "      <th>currency</th>\n",
       "      <th>currency_symbol</th>\n",
       "      <th>...</th>\n",
       "      <th>spotlight</th>\n",
       "      <th>staff_pick</th>\n",
       "      <th>state</th>\n",
       "      <th>state_changed_at</th>\n",
       "      <th>static_usd_rate</th>\n",
       "      <th>unread_messages_count</th>\n",
       "      <th>unseen_activity_count</th>\n",
       "      <th>urls</th>\n",
       "      <th>usd_pledged</th>\n",
       "      <th>usd_type</th>\n",
       "    </tr>\n",
       "  </thead>\n",
       "  <tbody>\n",
       "    <tr>\n",
       "      <th>0</th>\n",
       "      <td>167</td>\n",
       "      <td>Help us put the final touches on your new neig...</td>\n",
       "      <td>{\"id\":307,\"name\":\"Drinks\",\"slug\":\"food/drinks\"...</td>\n",
       "      <td>30146</td>\n",
       "      <td>US</td>\n",
       "      <td>the United States</td>\n",
       "      <td>1552541877</td>\n",
       "      <td>{\"id\":1854083273,\"name\":\"The Bigfoot Taproom\",...</td>\n",
       "      <td>USD</td>\n",
       "      <td>$</td>\n",
       "      <td>...</td>\n",
       "      <td>True</td>\n",
       "      <td>False</td>\n",
       "      <td>successful</td>\n",
       "      <td>1562628664</td>\n",
       "      <td>1.000000</td>\n",
       "      <td>NaN</td>\n",
       "      <td>NaN</td>\n",
       "      <td>{\"web\":{\"project\":\"https://www.kickstarter.com...</td>\n",
       "      <td>30146.000000</td>\n",
       "      <td>domestic</td>\n",
       "    </tr>\n",
       "    <tr>\n",
       "      <th>1</th>\n",
       "      <td>26</td>\n",
       "      <td>High quality resin copy of this equestrian fig...</td>\n",
       "      <td>{\"id\":34,\"name\":\"Tabletop Games\",\"slug\":\"games...</td>\n",
       "      <td>1599</td>\n",
       "      <td>ES</td>\n",
       "      <td>Spain</td>\n",
       "      <td>1589813413</td>\n",
       "      <td>{\"id\":166874066,\"name\":\"Ivan Mata\",\"slug\":\"iva...</td>\n",
       "      <td>EUR</td>\n",
       "      <td>â¬</td>\n",
       "      <td>...</td>\n",
       "      <td>True</td>\n",
       "      <td>False</td>\n",
       "      <td>successful</td>\n",
       "      <td>1591687080</td>\n",
       "      <td>1.094011</td>\n",
       "      <td>NaN</td>\n",
       "      <td>NaN</td>\n",
       "      <td>{\"web\":{\"project\":\"https://www.kickstarter.com...</td>\n",
       "      <td>1550.212893</td>\n",
       "      <td>domestic</td>\n",
       "    </tr>\n",
       "    <tr>\n",
       "      <th>2</th>\n",
       "      <td>22</td>\n",
       "      <td>The Shedding is a dark surreal drama focused o...</td>\n",
       "      <td>{\"id\":32,\"name\":\"Shorts\",\"slug\":\"film &amp; video/...</td>\n",
       "      <td>654</td>\n",
       "      <td>GB</td>\n",
       "      <td>the United Kingdom</td>\n",
       "      <td>1573239383</td>\n",
       "      <td>{\"id\":1475546789,\"name\":\"Eva Anjos\",\"slug\":\"th...</td>\n",
       "      <td>GBP</td>\n",
       "      <td>Â£</td>\n",
       "      <td>...</td>\n",
       "      <td>True</td>\n",
       "      <td>False</td>\n",
       "      <td>successful</td>\n",
       "      <td>1578257400</td>\n",
       "      <td>1.292750</td>\n",
       "      <td>NaN</td>\n",
       "      <td>NaN</td>\n",
       "      <td>{\"web\":{\"project\":\"https://www.kickstarter.com...</td>\n",
       "      <td>646.374805</td>\n",
       "      <td>domestic</td>\n",
       "    </tr>\n",
       "    <tr>\n",
       "      <th>3</th>\n",
       "      <td>1</td>\n",
       "      <td>Ova Mobile est un projet franÃ§ais de studio d...</td>\n",
       "      <td>{\"id\":272,\"name\":\"Mobile Games\",\"slug\":\"games/...</td>\n",
       "      <td>6</td>\n",
       "      <td>FR</td>\n",
       "      <td>France</td>\n",
       "      <td>1514135425</td>\n",
       "      <td>{\"id\":2068430266,\"name\":\"ChloÃ© Bigot\",\"is_reg...</td>\n",
       "      <td>EUR</td>\n",
       "      <td>â¬</td>\n",
       "      <td>...</td>\n",
       "      <td>False</td>\n",
       "      <td>False</td>\n",
       "      <td>failed</td>\n",
       "      <td>1519906279</td>\n",
       "      <td>1.241332</td>\n",
       "      <td>NaN</td>\n",
       "      <td>NaN</td>\n",
       "      <td>{\"web\":{\"project\":\"https://www.kickstarter.com...</td>\n",
       "      <td>6.206662</td>\n",
       "      <td>domestic</td>\n",
       "    </tr>\n",
       "    <tr>\n",
       "      <th>4</th>\n",
       "      <td>41</td>\n",
       "      <td>Legally Bellas Magazine &amp; Photography of 18 to...</td>\n",
       "      <td>{\"id\":280,\"name\":\"Photobooks\",\"slug\":\"photogra...</td>\n",
       "      <td>1330</td>\n",
       "      <td>US</td>\n",
       "      <td>the United States</td>\n",
       "      <td>1517584654</td>\n",
       "      <td>{\"id\":1030488260,\"name\":\"Legally Bellas\",\"is_r...</td>\n",
       "      <td>USD</td>\n",
       "      <td>$</td>\n",
       "      <td>...</td>\n",
       "      <td>True</td>\n",
       "      <td>False</td>\n",
       "      <td>successful</td>\n",
       "      <td>1521392853</td>\n",
       "      <td>1.000000</td>\n",
       "      <td>NaN</td>\n",
       "      <td>NaN</td>\n",
       "      <td>{\"web\":{\"project\":\"https://www.kickstarter.com...</td>\n",
       "      <td>1330.000000</td>\n",
       "      <td>domestic</td>\n",
       "    </tr>\n",
       "  </tbody>\n",
       "</table>\n",
       "<p>5 rows × 41 columns</p>\n",
       "</div>"
      ],
      "text/plain": [
       "   backers_count                                              blurb  \\\n",
       "0            167  Help us put the final touches on your new neig...   \n",
       "1             26  High quality resin copy of this equestrian fig...   \n",
       "2             22  The Shedding is a dark surreal drama focused o...   \n",
       "3              1  Ova Mobile est un projet franÃ§ais de studio d...   \n",
       "4             41  Legally Bellas Magazine & Photography of 18 to...   \n",
       "\n",
       "                                            category  \\\n",
       "0  {\"id\":307,\"name\":\"Drinks\",\"slug\":\"food/drinks\"...   \n",
       "1  {\"id\":34,\"name\":\"Tabletop Games\",\"slug\":\"games...   \n",
       "2  {\"id\":32,\"name\":\"Shorts\",\"slug\":\"film & video/...   \n",
       "3  {\"id\":272,\"name\":\"Mobile Games\",\"slug\":\"games/...   \n",
       "4  {\"id\":280,\"name\":\"Photobooks\",\"slug\":\"photogra...   \n",
       "\n",
       "   converted_pledged_amount country country_displayable_name  created_at  \\\n",
       "0                     30146      US        the United States  1552541877   \n",
       "1                      1599      ES                    Spain  1589813413   \n",
       "2                       654      GB       the United Kingdom  1573239383   \n",
       "3                         6      FR                   France  1514135425   \n",
       "4                      1330      US        the United States  1517584654   \n",
       "\n",
       "                                             creator currency currency_symbol  \\\n",
       "0  {\"id\":1854083273,\"name\":\"The Bigfoot Taproom\",...      USD               $   \n",
       "1  {\"id\":166874066,\"name\":\"Ivan Mata\",\"slug\":\"iva...      EUR             â¬   \n",
       "2  {\"id\":1475546789,\"name\":\"Eva Anjos\",\"slug\":\"th...      GBP              Â£   \n",
       "3  {\"id\":2068430266,\"name\":\"ChloÃ© Bigot\",\"is_reg...      EUR             â¬   \n",
       "4  {\"id\":1030488260,\"name\":\"Legally Bellas\",\"is_r...      USD               $   \n",
       "\n",
       "   ...  spotlight staff_pick       state  state_changed_at static_usd_rate  \\\n",
       "0  ...       True      False  successful        1562628664        1.000000   \n",
       "1  ...       True      False  successful        1591687080        1.094011   \n",
       "2  ...       True      False  successful        1578257400        1.292750   \n",
       "3  ...      False      False      failed        1519906279        1.241332   \n",
       "4  ...       True      False  successful        1521392853        1.000000   \n",
       "\n",
       "   unread_messages_count  unseen_activity_count  \\\n",
       "0                    NaN                    NaN   \n",
       "1                    NaN                    NaN   \n",
       "2                    NaN                    NaN   \n",
       "3                    NaN                    NaN   \n",
       "4                    NaN                    NaN   \n",
       "\n",
       "                                                urls   usd_pledged  usd_type  \n",
       "0  {\"web\":{\"project\":\"https://www.kickstarter.com...  30146.000000  domestic  \n",
       "1  {\"web\":{\"project\":\"https://www.kickstarter.com...   1550.212893  domestic  \n",
       "2  {\"web\":{\"project\":\"https://www.kickstarter.com...    646.374805  domestic  \n",
       "3  {\"web\":{\"project\":\"https://www.kickstarter.com...      6.206662  domestic  \n",
       "4  {\"web\":{\"project\":\"https://www.kickstarter.com...   1330.000000  domestic  \n",
       "\n",
       "[5 rows x 41 columns]"
      ]
     },
     "execution_count": 225,
     "metadata": {},
     "output_type": "execute_result"
    }
   ],
   "source": [
    "df.head(5)"
   ]
  },
  {
   "cell_type": "markdown",
   "metadata": {},
   "source": [
    "Duplicate rows are removed from the dataframe by checking for same IDs. All duplicates are dropped except for the last occurrence, and the dataframe now has 184,828 rows and 41 columns."
   ]
  },
  {
   "cell_type": "code",
   "execution_count": 226,
   "metadata": {},
   "outputs": [
    {
     "data": {
      "text/plain": [
       "(184828, 41)"
      ]
     },
     "execution_count": 226,
     "metadata": {},
     "output_type": "execute_result"
    }
   ],
   "source": [
    "df = df.drop_duplicates(subset=['id'], keep='last')\n",
    "df.shape\n"
   ]
  },
  {
   "cell_type": "code",
   "execution_count": 227,
   "metadata": {
    "scrolled": true
   },
   "outputs": [],
   "source": [
    "df = df.drop(['friends','is_backing','is_starred','last_update_published_at','unread_messages_count','unseen_activity_count','permissions'],axis=1)"
   ]
  },
  {
   "cell_type": "markdown",
   "metadata": {},
   "source": [
    "The columns above were dropped as they were mostly empty. "
   ]
  },
  {
   "cell_type": "code",
   "execution_count": 228,
   "metadata": {},
   "outputs": [],
   "source": [
    "df =  df.drop(['created_at','pledged','converted_pledged_amount','currency_symbol','country','creator','currency','currency_trailing_code','current_currency','fx_rate','location','photo','profile','slug','source_url','static_usd_rate','urls','spotlight'],axis=1)\n",
    "\n",
    "#I decided to keep the pledged amount in USD for the sake of consistency. After filtering out uninformative columns, 10 columns remained for further analysis. The class variable in this dataset is \"state\", which tells us whether the Kickstarter campaign succeeded or failed. "
   ]
  },
  {
   "cell_type": "markdown",
   "metadata": {},
   "source": [
    "The columns above were dropped for the following reasons:\n",
    "\n",
    "created_at: launched_at is more informative as it tells us when the campaign was published publicly\n",
    "\n",
    "pledged: usd_pledged is used instead to ensure currency consistency \n",
    "\n",
    "converted_pledged_amount: Same as above\n",
    "\n",
    "slug: Same as above \n",
    "\n",
    "currency: Not needed as figures in USD are used instead \n",
    "\n",
    "currency_symbol: Same as above  \n",
    "\n",
    "currency_trailing_code: Same as above \n",
    "\n",
    "fx_rate: Same as above \n",
    "\n",
    "static_usd_rate: Same as above \n",
    "\n",
    "country: Not needed as country name has been kept \n",
    "\n",
    "creator: Details of campaign creator is not useful \n",
    "\n",
    "current_currency: Boolean variable, not informative as USD is used \n",
    "\n",
    "location: Gives city where the campaign is held, however country is used to analyse location in this project \n",
    "\n",
    "photo: Image processing is beyond the scope of this project \n",
    "\n",
    "source_url: URL to the project category is not required for analysis\n",
    "\n",
    "urls: URL to the project is not required for analysis \n",
    "\n",
    "spotlight: Is dependent on whether or not a campaign was successful, hence is not informative \n",
    "\n",
    "\n"
   ]
  },
  {
   "cell_type": "code",
   "execution_count": 229,
   "metadata": {},
   "outputs": [
    {
     "data": {
      "text/plain": [
       "backers_count                 0\n",
       "blurb                         8\n",
       "category                      0\n",
       "country_displayable_name      0\n",
       "deadline                      0\n",
       "disable_communication         0\n",
       "goal                          0\n",
       "id                            0\n",
       "is_starrable                  0\n",
       "launched_at                   0\n",
       "name                          1\n",
       "staff_pick                    0\n",
       "state                         0\n",
       "state_changed_at              0\n",
       "usd_pledged                   0\n",
       "usd_type                    227\n",
       "dtype: int64"
      ]
     },
     "execution_count": 229,
     "metadata": {},
     "output_type": "execute_result"
    }
   ],
   "source": [
    "df.isnull().sum(axis = 0)\n",
    "df = df.drop(['usd_type'], axis=1)"
   ]
  },
  {
   "cell_type": "markdown",
   "metadata": {},
   "source": [
    "The code above checks for null values in each of the columns. There are 227 null values in 'usd_type' and 8 null values in 'blurb'. 'usd_type' is dropped as this tells us if a project is domestic or international and we can already get this information from 'country_displayable_name' column. \n",
    "\n",
    "There are 8 missing values in blurb, however it will be left as it is. This likely does not stem from missing data, and is due to projects that do not have a blurb and hence does not affect accuracy of data. "
   ]
  },
  {
   "cell_type": "markdown",
   "metadata": {},
   "source": [
    "The project category and subcategory are extracted from the 'category' column by converting the string column into a dictionary, and obtaining the values of the 'name' and 'slug' keys. Two new columns filled with the project category and subcategory."
   ]
  },
  {
   "cell_type": "code",
   "execution_count": 230,
   "metadata": {},
   "outputs": [],
   "source": [
    "#extract category and subcategory\n",
    "#https://stackoverflow.com/questions/63278204/python-pandas-regex-outputting-nan\n",
    "df['category'] = df.category.astype(str)\n",
    "df['category'] = df.category.apply(eval)\n",
    "df[\"extracted_category\"] = df.category.str[\"name\"]\n",
    "df[\"extracted_subcategory\"] = df.category.str[\"slug\"]\n",
    "df = df.drop(['category'], axis=1)\n",
    "\n"
   ]
  },
  {
   "cell_type": "markdown",
   "metadata": {},
   "source": [
    "Unix times in 'launched_at' and 'state_changed_at' are converted into DateTime format to the accuracy of seconds. This information is stored in a new column 'launch_datetime'."
   ]
  },
  {
   "cell_type": "code",
   "execution_count": 231,
   "metadata": {},
   "outputs": [
    {
     "data": {
      "text/plain": [
       "3      2018-01-30 12:11:19\n",
       "5      2017-11-16 09:17:04\n",
       "6      2015-11-16 14:14:40\n",
       "7      2016-12-15 15:51:33\n",
       "8      2013-03-20 09:02:54\n",
       "               ...        \n",
       "3704   2016-03-30 05:45:25\n",
       "3705   2019-01-24 15:21:53\n",
       "3706   2017-07-31 19:03:49\n",
       "3707   2016-03-08 17:03:19\n",
       "3708   2014-09-23 15:29:11\n",
       "Name: launch_datetime, Length: 184828, dtype: datetime64[ns]"
      ]
     },
     "execution_count": 231,
     "metadata": {},
     "output_type": "execute_result"
    }
   ],
   "source": [
    "unix_times = ['launched_at','state_changed_at']\n",
    "df['launch_datetime'] = pd.to_datetime(df['launched_at'], unit = 's')\n",
    "df['launch_datetime']"
   ]
  },
  {
   "cell_type": "markdown",
   "metadata": {},
   "source": [
    "The year, month, day and hour that the projects were launched are extracted from the DateTime column and placed into 4 new columns. The launch hours are reformatted into a 2 hour range. "
   ]
  },
  {
   "cell_type": "code",
   "execution_count": 232,
   "metadata": {},
   "outputs": [
    {
     "data": {
      "text/plain": [
       "3       2018\n",
       "5       2017\n",
       "6       2015\n",
       "7       2016\n",
       "8       2013\n",
       "        ... \n",
       "3704    2016\n",
       "3705    2019\n",
       "3706    2017\n",
       "3707    2016\n",
       "3708    2014\n",
       "Name: launch_year, Length: 184828, dtype: int64"
      ]
     },
     "execution_count": 232,
     "metadata": {},
     "output_type": "execute_result"
    }
   ],
   "source": [
    "df['launch_year'] = df['launch_datetime'].dt.year\n",
    "df['launch_year'].astype(int)"
   ]
  },
  {
   "cell_type": "code",
   "execution_count": 233,
   "metadata": {},
   "outputs": [
    {
     "data": {
      "text/plain": [
       "3         January\n",
       "5        November\n",
       "6        November\n",
       "7        December\n",
       "8           March\n",
       "          ...    \n",
       "3704        March\n",
       "3705      January\n",
       "3706         July\n",
       "3707        March\n",
       "3708    September\n",
       "Name: launch_month, Length: 184828, dtype: object"
      ]
     },
     "execution_count": 233,
     "metadata": {},
     "output_type": "execute_result"
    }
   ],
   "source": [
    "df['launch_month'] = df['launch_datetime'].dt.month_name()\n",
    "df['launch_month']"
   ]
  },
  {
   "cell_type": "code",
   "execution_count": 234,
   "metadata": {},
   "outputs": [
    {
     "data": {
      "text/plain": [
       "3       12pm - 2pm\n",
       "5       8am - 10am\n",
       "6        2pm - 4pm\n",
       "7        2pm - 4pm\n",
       "8       8am - 10am\n",
       "           ...    \n",
       "3704     4am - 6am\n",
       "3705     2pm - 4pm\n",
       "3706     6pm - 8pm\n",
       "3707     4pm - 6pm\n",
       "3708     2pm - 4pm\n",
       "Name: launch_hour, Length: 184828, dtype: object"
      ]
     },
     "execution_count": 234,
     "metadata": {},
     "output_type": "execute_result"
    }
   ],
   "source": [
    "df['launch_hour'] = df['launch_datetime'].dt.hour\n",
    "df[\"launch_hour\"].replace([0, 1], \"12am - 2am\", inplace=True)\n",
    "df[\"launch_hour\"].replace([2, 3],\"2am - 4am\", inplace=True)\n",
    "df[\"launch_hour\"].replace([4, 5],\"4am - 6am\", inplace=True)\n",
    "df[\"launch_hour\"].replace([6, 7], \"6am - 8am\", inplace=True)\n",
    "df[\"launch_hour\"].replace([8, 9], \"8am - 10am\", inplace=True)\n",
    "df[\"launch_hour\"].replace([10, 11], \"10am - 12pm\", inplace=True)\n",
    "df[\"launch_hour\"].replace([12, 13], \"12pm - 2pm\", inplace=True)\n",
    "df[\"launch_hour\"].replace([14, 15], \"2pm - 4pm\", inplace=True)\n",
    "df[\"launch_hour\"].replace([16, 17], \"4pm - 6pm\", inplace=True)\n",
    "df[\"launch_hour\"].replace([18, 19], \"6pm - 8pm\", inplace=True)\n",
    "df[\"launch_hour\"].replace([20, 21], \"8pm - 10pm\", inplace=True)\n",
    "df[\"launch_hour\"].replace([22, 23], \"10pm - 12am\", inplace=True)\n",
    "\n",
    "\n",
    "df[\"launch_hour\"]\n"
   ]
  },
  {
   "cell_type": "code",
   "execution_count": 235,
   "metadata": {},
   "outputs": [
    {
     "data": {
      "text/plain": [
       "3         Tuesday\n",
       "5        Thursday\n",
       "6          Monday\n",
       "7        Thursday\n",
       "8       Wednesday\n",
       "          ...    \n",
       "3704    Wednesday\n",
       "3705     Thursday\n",
       "3706       Monday\n",
       "3707      Tuesday\n",
       "3708      Tuesday\n",
       "Name: launch_day, Length: 184828, dtype: object"
      ]
     },
     "execution_count": 235,
     "metadata": {},
     "output_type": "execute_result"
    }
   ],
   "source": [
    "df['launch_day'] = df['launch_datetime'].dt.day_name()\n",
    "df['launch_day']\n",
    "\n",
    "df = df.drop(['state_changed_at','launch_datetime'], axis=1)"
   ]
  },
  {
   "cell_type": "markdown",
   "metadata": {},
   "source": [
    "To calculate the campaign length in days, the difference between 'deadline' and 'launched_at' was calculated and then converted into days. This information was stored in a new column 'campaign_length'. 'deadline' and 'launched_at' were dropped as these columns are no longer required. "
   ]
  },
  {
   "cell_type": "code",
   "execution_count": 236,
   "metadata": {},
   "outputs": [
    {
     "data": {
      "text/html": [
       "<div>\n",
       "<style scoped>\n",
       "    .dataframe tbody tr th:only-of-type {\n",
       "        vertical-align: middle;\n",
       "    }\n",
       "\n",
       "    .dataframe tbody tr th {\n",
       "        vertical-align: top;\n",
       "    }\n",
       "\n",
       "    .dataframe thead th {\n",
       "        text-align: right;\n",
       "    }\n",
       "</style>\n",
       "<table border=\"1\" class=\"dataframe\">\n",
       "  <thead>\n",
       "    <tr style=\"text-align: right;\">\n",
       "      <th></th>\n",
       "      <th>backers_count</th>\n",
       "      <th>blurb</th>\n",
       "      <th>country_displayable_name</th>\n",
       "      <th>disable_communication</th>\n",
       "      <th>goal</th>\n",
       "      <th>id</th>\n",
       "      <th>is_starrable</th>\n",
       "      <th>name</th>\n",
       "      <th>staff_pick</th>\n",
       "      <th>state</th>\n",
       "      <th>usd_pledged</th>\n",
       "      <th>extracted_category</th>\n",
       "      <th>extracted_subcategory</th>\n",
       "      <th>launch_year</th>\n",
       "      <th>launch_month</th>\n",
       "      <th>launch_hour</th>\n",
       "      <th>launch_day</th>\n",
       "      <th>campaign_length</th>\n",
       "    </tr>\n",
       "  </thead>\n",
       "  <tbody>\n",
       "    <tr>\n",
       "      <th>3706</th>\n",
       "      <td>1</td>\n",
       "      <td>Bringing the great out door scenery indoors, w...</td>\n",
       "      <td>the United States</td>\n",
       "      <td>False</td>\n",
       "      <td>15000.0</td>\n",
       "      <td>1878721701</td>\n",
       "      <td>False</td>\n",
       "      <td>Kitchen Delight</td>\n",
       "      <td>False</td>\n",
       "      <td>failed</td>\n",
       "      <td>1.0</td>\n",
       "      <td>Woodworking</td>\n",
       "      <td>crafts/woodworking</td>\n",
       "      <td>2017</td>\n",
       "      <td>July</td>\n",
       "      <td>6pm - 8pm</td>\n",
       "      <td>Monday</td>\n",
       "      <td>28.0</td>\n",
       "    </tr>\n",
       "    <tr>\n",
       "      <th>3707</th>\n",
       "      <td>6</td>\n",
       "      <td>Independent dark comedy noir set in a fictiona...</td>\n",
       "      <td>the United States</td>\n",
       "      <td>False</td>\n",
       "      <td>2000.0</td>\n",
       "      <td>1443063301</td>\n",
       "      <td>False</td>\n",
       "      <td>9 Nights in Charles Creek</td>\n",
       "      <td>False</td>\n",
       "      <td>failed</td>\n",
       "      <td>1012.0</td>\n",
       "      <td>Comedy</td>\n",
       "      <td>film &amp; video/comedy</td>\n",
       "      <td>2016</td>\n",
       "      <td>March</td>\n",
       "      <td>4pm - 6pm</td>\n",
       "      <td>Tuesday</td>\n",
       "      <td>60.0</td>\n",
       "    </tr>\n",
       "    <tr>\n",
       "      <th>3708</th>\n",
       "      <td>0</td>\n",
       "      <td>I want to travel across Ga. taking photos of o...</td>\n",
       "      <td>the United States</td>\n",
       "      <td>False</td>\n",
       "      <td>3200.0</td>\n",
       "      <td>1337101172</td>\n",
       "      <td>False</td>\n",
       "      <td>Vanishing Farm buildings in Ga.</td>\n",
       "      <td>False</td>\n",
       "      <td>failed</td>\n",
       "      <td>0.0</td>\n",
       "      <td>Fine Art</td>\n",
       "      <td>photography/fine art</td>\n",
       "      <td>2014</td>\n",
       "      <td>September</td>\n",
       "      <td>2pm - 4pm</td>\n",
       "      <td>Tuesday</td>\n",
       "      <td>38.0</td>\n",
       "    </tr>\n",
       "  </tbody>\n",
       "</table>\n",
       "</div>"
      ],
      "text/plain": [
       "      backers_count                                              blurb  \\\n",
       "3706              1  Bringing the great out door scenery indoors, w...   \n",
       "3707              6  Independent dark comedy noir set in a fictiona...   \n",
       "3708              0  I want to travel across Ga. taking photos of o...   \n",
       "\n",
       "     country_displayable_name  disable_communication     goal          id  \\\n",
       "3706        the United States                  False  15000.0  1878721701   \n",
       "3707        the United States                  False   2000.0  1443063301   \n",
       "3708        the United States                  False   3200.0  1337101172   \n",
       "\n",
       "      is_starrable                             name  staff_pick   state  \\\n",
       "3706         False                  Kitchen Delight       False  failed   \n",
       "3707         False        9 Nights in Charles Creek       False  failed   \n",
       "3708         False  Vanishing Farm buildings in Ga.       False  failed   \n",
       "\n",
       "      usd_pledged extracted_category extracted_subcategory  launch_year  \\\n",
       "3706          1.0        Woodworking    crafts/woodworking         2017   \n",
       "3707       1012.0             Comedy   film & video/comedy         2016   \n",
       "3708          0.0           Fine Art  photography/fine art         2014   \n",
       "\n",
       "     launch_month launch_hour launch_day  campaign_length  \n",
       "3706         July   6pm - 8pm     Monday             28.0  \n",
       "3707        March   4pm - 6pm    Tuesday             60.0  \n",
       "3708    September   2pm - 4pm    Tuesday             38.0  "
      ]
     },
     "execution_count": 236,
     "metadata": {},
     "output_type": "execute_result"
    }
   ],
   "source": [
    "#calculate campaign length \n",
    "#https://stackoverflow.com/questions/45603232/python-difference-between-two-unix-timestamps\n",
    "def campaign_length(deadline, launched_at):\n",
    "    campaign_length = (deadline - launched_at)/(60*60*24)\n",
    "\n",
    "    return campaign_length\n",
    "\n",
    "\n",
    "df['campaign_length']= round(campaign_length(df.deadline, df.launched_at))\n",
    "df = df.drop(['deadline','launched_at'], axis=1)\n",
    "df.tail(3)"
   ]
  },
  {
   "cell_type": "markdown",
   "metadata": {},
   "source": [
    "Name and blurb length were calculated to analyse the investigate the relationship between longer names and blurbs and amount pledged. The columns were converted into string types. The lengths were then calculated and stored in 'name_length' and 'blurb_length'."
   ]
  },
  {
   "cell_type": "code",
   "execution_count": 237,
   "metadata": {},
   "outputs": [
    {
     "data": {
      "text/plain": [
       "3       10\n",
       "5       19\n",
       "6       13\n",
       "7       20\n",
       "8       46\n",
       "        ..\n",
       "3704    19\n",
       "3705    13\n",
       "3706    15\n",
       "3707    25\n",
       "3708    31\n",
       "Name: name_length, Length: 184828, dtype: int64"
      ]
     },
     "execution_count": 237,
     "metadata": {},
     "output_type": "execute_result"
    }
   ],
   "source": [
    "#extract name length \n",
    "df['name'] = df['name'].astype(str)\n",
    "df['name_length'] = df['name'].apply(len)\n",
    "df = df.drop(['name'], axis=1)\n",
    "df['name_length']"
   ]
  },
  {
   "cell_type": "code",
   "execution_count": 238,
   "metadata": {},
   "outputs": [],
   "source": [
    "#extract blurb length \n",
    "df['blurb'] = df['blurb'].astype(str)\n",
    "df['blurb_length'] = df['blurb'].apply(len)\n",
    "df = df.drop(['blurb'], axis=1)\n"
   ]
  },
  {
   "cell_type": "markdown",
   "metadata": {},
   "source": []
  },
  {
   "cell_type": "markdown",
   "metadata": {},
   "source": [
    "State is our class variable. There are 4 different states, namely successful, failed, canceled, and live. Cancelled and live campaigns are removed from the dataframe as we are only analysing and predicting the success and failure of Kickstarter campaigns. Live campaigns are still ongoing, and canceled campaigns were cancelled before the deadline was reached."
   ]
  },
  {
   "cell_type": "code",
   "execution_count": 239,
   "metadata": {},
   "outputs": [
    {
     "data": {
      "text/plain": [
       "successful    100029\n",
       "failed         72787\n",
       "canceled        8904\n",
       "live            3108\n",
       "Name: state, dtype: int64"
      ]
     },
     "execution_count": 239,
     "metadata": {},
     "output_type": "execute_result"
    }
   ],
   "source": [
    "df['state'].value_counts()"
   ]
  },
  {
   "cell_type": "code",
   "execution_count": 240,
   "metadata": {},
   "outputs": [],
   "source": [
    "df = df[df.state != 'canceled']  \n",
    "df = df[df.state != 'live']"
   ]
  },
  {
   "cell_type": "code",
   "execution_count": 241,
   "metadata": {
    "scrolled": true
   },
   "outputs": [
    {
     "data": {
      "text/plain": [
       "Index(['backers_count', 'country_displayable_name', 'disable_communication',\n",
       "       'goal', 'id', 'is_starrable', 'staff_pick', 'state', 'usd_pledged',\n",
       "       'extracted_category', 'extracted_subcategory', 'launch_year',\n",
       "       'launch_month', 'launch_hour', 'launch_day', 'campaign_length',\n",
       "       'name_length', 'blurb_length'],\n",
       "      dtype='object')"
      ]
     },
     "execution_count": 241,
     "metadata": {},
     "output_type": "execute_result"
    },
    {
     "data": {
      "text/html": [
       "<div>\n",
       "<style scoped>\n",
       "    .dataframe tbody tr th:only-of-type {\n",
       "        vertical-align: middle;\n",
       "    }\n",
       "\n",
       "    .dataframe tbody tr th {\n",
       "        vertical-align: top;\n",
       "    }\n",
       "\n",
       "    .dataframe thead th {\n",
       "        text-align: right;\n",
       "    }\n",
       "</style>\n",
       "<table border=\"1\" class=\"dataframe\">\n",
       "  <thead>\n",
       "    <tr style=\"text-align: right;\">\n",
       "      <th></th>\n",
       "      <th>backers_count</th>\n",
       "      <th>country_displayable_name</th>\n",
       "      <th>disable_communication</th>\n",
       "      <th>goal</th>\n",
       "      <th>id</th>\n",
       "      <th>is_starrable</th>\n",
       "      <th>staff_pick</th>\n",
       "      <th>state</th>\n",
       "      <th>usd_pledged</th>\n",
       "      <th>extracted_category</th>\n",
       "      <th>extracted_subcategory</th>\n",
       "      <th>launch_year</th>\n",
       "      <th>launch_month</th>\n",
       "      <th>launch_hour</th>\n",
       "      <th>launch_day</th>\n",
       "      <th>campaign_length</th>\n",
       "      <th>name_length</th>\n",
       "      <th>blurb_length</th>\n",
       "    </tr>\n",
       "  </thead>\n",
       "  <tbody>\n",
       "    <tr>\n",
       "      <th>3</th>\n",
       "      <td>1</td>\n",
       "      <td>France</td>\n",
       "      <td>False</td>\n",
       "      <td>300.0</td>\n",
       "      <td>122681375</td>\n",
       "      <td>False</td>\n",
       "      <td>False</td>\n",
       "      <td>failed</td>\n",
       "      <td>6.206662</td>\n",
       "      <td>Mobile Games</td>\n",
       "      <td>games/mobile games</td>\n",
       "      <td>2018</td>\n",
       "      <td>January</td>\n",
       "      <td>12pm - 2pm</td>\n",
       "      <td>Tuesday</td>\n",
       "      <td>30.0</td>\n",
       "      <td>10</td>\n",
       "      <td>123</td>\n",
       "    </tr>\n",
       "    <tr>\n",
       "      <th>5</th>\n",
       "      <td>0</td>\n",
       "      <td>Italy</td>\n",
       "      <td>False</td>\n",
       "      <td>5000.0</td>\n",
       "      <td>1062759865</td>\n",
       "      <td>False</td>\n",
       "      <td>False</td>\n",
       "      <td>failed</td>\n",
       "      <td>0.000000</td>\n",
       "      <td>Electronic Music</td>\n",
       "      <td>music/electronic music</td>\n",
       "      <td>2017</td>\n",
       "      <td>November</td>\n",
       "      <td>8am - 10am</td>\n",
       "      <td>Thursday</td>\n",
       "      <td>45.0</td>\n",
       "      <td>19</td>\n",
       "      <td>55</td>\n",
       "    </tr>\n",
       "    <tr>\n",
       "      <th>6</th>\n",
       "      <td>0</td>\n",
       "      <td>the United Kingdom</td>\n",
       "      <td>False</td>\n",
       "      <td>3000.0</td>\n",
       "      <td>720535316</td>\n",
       "      <td>False</td>\n",
       "      <td>False</td>\n",
       "      <td>failed</td>\n",
       "      <td>0.000000</td>\n",
       "      <td>Comedy</td>\n",
       "      <td>film &amp; video/comedy</td>\n",
       "      <td>2015</td>\n",
       "      <td>November</td>\n",
       "      <td>2pm - 4pm</td>\n",
       "      <td>Monday</td>\n",
       "      <td>60.0</td>\n",
       "      <td>13</td>\n",
       "      <td>121</td>\n",
       "    </tr>\n",
       "    <tr>\n",
       "      <th>7</th>\n",
       "      <td>44</td>\n",
       "      <td>Spain</td>\n",
       "      <td>False</td>\n",
       "      <td>10000.0</td>\n",
       "      <td>477403755</td>\n",
       "      <td>False</td>\n",
       "      <td>False</td>\n",
       "      <td>failed</td>\n",
       "      <td>531.830025</td>\n",
       "      <td>Graphic Design</td>\n",
       "      <td>design/graphic design</td>\n",
       "      <td>2016</td>\n",
       "      <td>December</td>\n",
       "      <td>2pm - 4pm</td>\n",
       "      <td>Thursday</td>\n",
       "      <td>35.0</td>\n",
       "      <td>20</td>\n",
       "      <td>98</td>\n",
       "    </tr>\n",
       "    <tr>\n",
       "      <th>8</th>\n",
       "      <td>21</td>\n",
       "      <td>the United States</td>\n",
       "      <td>False</td>\n",
       "      <td>15000.0</td>\n",
       "      <td>292755104</td>\n",
       "      <td>False</td>\n",
       "      <td>False</td>\n",
       "      <td>failed</td>\n",
       "      <td>256.000000</td>\n",
       "      <td>Mobile Games</td>\n",
       "      <td>games/mobile games</td>\n",
       "      <td>2013</td>\n",
       "      <td>March</td>\n",
       "      <td>8am - 10am</td>\n",
       "      <td>Wednesday</td>\n",
       "      <td>30.0</td>\n",
       "      <td>46</td>\n",
       "      <td>114</td>\n",
       "    </tr>\n",
       "  </tbody>\n",
       "</table>\n",
       "</div>"
      ],
      "text/plain": [
       "   backers_count country_displayable_name  disable_communication     goal  \\\n",
       "3              1                   France                  False    300.0   \n",
       "5              0                    Italy                  False   5000.0   \n",
       "6              0       the United Kingdom                  False   3000.0   \n",
       "7             44                    Spain                  False  10000.0   \n",
       "8             21        the United States                  False  15000.0   \n",
       "\n",
       "           id  is_starrable  staff_pick   state  usd_pledged  \\\n",
       "3   122681375         False       False  failed     6.206662   \n",
       "5  1062759865         False       False  failed     0.000000   \n",
       "6   720535316         False       False  failed     0.000000   \n",
       "7   477403755         False       False  failed   531.830025   \n",
       "8   292755104         False       False  failed   256.000000   \n",
       "\n",
       "  extracted_category   extracted_subcategory  launch_year launch_month  \\\n",
       "3       Mobile Games      games/mobile games         2018      January   \n",
       "5   Electronic Music  music/electronic music         2017     November   \n",
       "6             Comedy     film & video/comedy         2015     November   \n",
       "7     Graphic Design   design/graphic design         2016     December   \n",
       "8       Mobile Games      games/mobile games         2013        March   \n",
       "\n",
       "  launch_hour launch_day  campaign_length  name_length  blurb_length  \n",
       "3  12pm - 2pm    Tuesday             30.0           10           123  \n",
       "5  8am - 10am   Thursday             45.0           19            55  \n",
       "6   2pm - 4pm     Monday             60.0           13           121  \n",
       "7   2pm - 4pm   Thursday             35.0           20            98  \n",
       "8  8am - 10am  Wednesday             30.0           46           114  "
      ]
     },
     "execution_count": 241,
     "metadata": {},
     "output_type": "execute_result"
    }
   ],
   "source": [
    "df.columns\n",
    "df.head()"
   ]
  },
  {
   "cell_type": "markdown",
   "metadata": {},
   "source": [
    "# Exploratory Data Analysis and Data Visualisation"
   ]
  },
  {
   "cell_type": "code",
   "execution_count": 242,
   "metadata": {},
   "outputs": [
    {
     "data": {
      "text/html": [
       "<div>\n",
       "<style scoped>\n",
       "    .dataframe tbody tr th:only-of-type {\n",
       "        vertical-align: middle;\n",
       "    }\n",
       "\n",
       "    .dataframe tbody tr th {\n",
       "        vertical-align: top;\n",
       "    }\n",
       "\n",
       "    .dataframe thead th {\n",
       "        text-align: right;\n",
       "    }\n",
       "</style>\n",
       "<table border=\"1\" class=\"dataframe\">\n",
       "  <thead>\n",
       "    <tr style=\"text-align: right;\">\n",
       "      <th></th>\n",
       "      <th>backers_count</th>\n",
       "      <th>goal</th>\n",
       "      <th>id</th>\n",
       "      <th>usd_pledged</th>\n",
       "      <th>launch_year</th>\n",
       "      <th>campaign_length</th>\n",
       "      <th>name_length</th>\n",
       "      <th>blurb_length</th>\n",
       "    </tr>\n",
       "  </thead>\n",
       "  <tbody>\n",
       "    <tr>\n",
       "      <th>count</th>\n",
       "      <td>172816.000000</td>\n",
       "      <td>1.728160e+05</td>\n",
       "      <td>1.728160e+05</td>\n",
       "      <td>1.728160e+05</td>\n",
       "      <td>172816.000000</td>\n",
       "      <td>172816.000000</td>\n",
       "      <td>172816.000000</td>\n",
       "      <td>172816.000000</td>\n",
       "    </tr>\n",
       "    <tr>\n",
       "      <th>mean</th>\n",
       "      <td>145.285824</td>\n",
       "      <td>4.918993e+04</td>\n",
       "      <td>1.073645e+09</td>\n",
       "      <td>1.294946e+04</td>\n",
       "      <td>2016.050933</td>\n",
       "      <td>32.820474</td>\n",
       "      <td>34.823529</td>\n",
       "      <td>109.780761</td>\n",
       "    </tr>\n",
       "    <tr>\n",
       "      <th>std</th>\n",
       "      <td>938.408067</td>\n",
       "      <td>1.203971e+06</td>\n",
       "      <td>6.191487e+08</td>\n",
       "      <td>1.026807e+05</td>\n",
       "      <td>2.306911</td>\n",
       "      <td>12.094291</td>\n",
       "      <td>15.684939</td>\n",
       "      <td>29.131431</td>\n",
       "    </tr>\n",
       "    <tr>\n",
       "      <th>min</th>\n",
       "      <td>0.000000</td>\n",
       "      <td>1.000000e-02</td>\n",
       "      <td>1.852000e+04</td>\n",
       "      <td>0.000000e+00</td>\n",
       "      <td>2009.000000</td>\n",
       "      <td>1.000000</td>\n",
       "      <td>1.000000</td>\n",
       "      <td>1.000000</td>\n",
       "    </tr>\n",
       "    <tr>\n",
       "      <th>25%</th>\n",
       "      <td>4.000000</td>\n",
       "      <td>1.500000e+03</td>\n",
       "      <td>5.370619e+08</td>\n",
       "      <td>1.110000e+02</td>\n",
       "      <td>2014.000000</td>\n",
       "      <td>30.000000</td>\n",
       "      <td>22.000000</td>\n",
       "      <td>96.000000</td>\n",
       "    </tr>\n",
       "    <tr>\n",
       "      <th>50%</th>\n",
       "      <td>27.000000</td>\n",
       "      <td>5.000000e+03</td>\n",
       "      <td>1.073533e+09</td>\n",
       "      <td>1.535000e+03</td>\n",
       "      <td>2016.000000</td>\n",
       "      <td>30.000000</td>\n",
       "      <td>34.000000</td>\n",
       "      <td>122.000000</td>\n",
       "    </tr>\n",
       "    <tr>\n",
       "      <th>75%</th>\n",
       "      <td>88.000000</td>\n",
       "      <td>1.400000e+04</td>\n",
       "      <td>1.609719e+09</td>\n",
       "      <td>6.357000e+03</td>\n",
       "      <td>2018.000000</td>\n",
       "      <td>35.000000</td>\n",
       "      <td>49.000000</td>\n",
       "      <td>132.000000</td>\n",
       "    </tr>\n",
       "    <tr>\n",
       "      <th>max</th>\n",
       "      <td>105857.000000</td>\n",
       "      <td>1.000000e+08</td>\n",
       "      <td>2.147476e+09</td>\n",
       "      <td>1.296961e+07</td>\n",
       "      <td>2020.000000</td>\n",
       "      <td>98.000000</td>\n",
       "      <td>143.000000</td>\n",
       "      <td>405.000000</td>\n",
       "    </tr>\n",
       "  </tbody>\n",
       "</table>\n",
       "</div>"
      ],
      "text/plain": [
       "       backers_count          goal            id   usd_pledged    launch_year  \\\n",
       "count  172816.000000  1.728160e+05  1.728160e+05  1.728160e+05  172816.000000   \n",
       "mean      145.285824  4.918993e+04  1.073645e+09  1.294946e+04    2016.050933   \n",
       "std       938.408067  1.203971e+06  6.191487e+08  1.026807e+05       2.306911   \n",
       "min         0.000000  1.000000e-02  1.852000e+04  0.000000e+00    2009.000000   \n",
       "25%         4.000000  1.500000e+03  5.370619e+08  1.110000e+02    2014.000000   \n",
       "50%        27.000000  5.000000e+03  1.073533e+09  1.535000e+03    2016.000000   \n",
       "75%        88.000000  1.400000e+04  1.609719e+09  6.357000e+03    2018.000000   \n",
       "max    105857.000000  1.000000e+08  2.147476e+09  1.296961e+07    2020.000000   \n",
       "\n",
       "       campaign_length    name_length   blurb_length  \n",
       "count    172816.000000  172816.000000  172816.000000  \n",
       "mean         32.820474      34.823529     109.780761  \n",
       "std          12.094291      15.684939      29.131431  \n",
       "min           1.000000       1.000000       1.000000  \n",
       "25%          30.000000      22.000000      96.000000  \n",
       "50%          30.000000      34.000000     122.000000  \n",
       "75%          35.000000      49.000000     132.000000  \n",
       "max          98.000000     143.000000     405.000000  "
      ]
     },
     "execution_count": 242,
     "metadata": {},
     "output_type": "execute_result"
    },
    {
     "name": "stdout",
     "output_type": "stream",
     "text": [
      "The total number of projects launched on Kickstarter from 2009 to 2020 is 172,816.\n",
      "The total amount of money raised on Kickstarter from 2009 to 2020 is $2,237,873,620.\n",
      "\n",
      "The median amount of money each project aimed to raise is $27.\n",
      "The median amount of money each project raised is $1,535.\n",
      "The median number of individuals who backed each project is 27 people.\n",
      "\n",
      "The median amount of money aimed to raise by successful projects is $3,500.\n",
      "The median amount of money raised by successful projects is $4,690.\n",
      "The median number of days successful projects ran for is 30 days.\n",
      "\n",
      "The median amount of money aimed to raise by failed projects is $7,000.\n",
      "The median amount of money raised by failed projects is $58.\n",
      "The median number of days failed projects ran for is 30 days.\n"
     ]
    }
   ],
   "source": [
    "\n",
    "#print(\"The total amount of money pledged by backers to successful projects is ${0:,.0f}\".format(sum(df.loc[df['state'] == 'successful'].usd_pledged)))\n",
    "\n",
    "df.describe()\n",
    "print(\"The total number of projects launched on Kickstarter from 2009 to 2020 is {0:,.0f}.\".format(df.id.count()))\n",
    "print(\"The total amount of money raised on Kickstarter from 2009 to 2020 is ${0:,.0f}.\".format(df.usd_pledged.sum()))\n",
    "print(\"\")\n",
    "print(\"The median amount of money each project aimed to raise is ${0:,.0f}.\".format(df.backers_count.median()))\n",
    "print(\"The median amount of money each project raised is ${0:,.0f}.\".format(df.usd_pledged.median()))\n",
    "print(\"The median number of individuals who backed each project is {0:,.0f} people.\".format(df.backers_count.median()))\n",
    "print(\"\")\n",
    "print(\"The median amount of money aimed to raise by successful projects is ${0:,.0f}.\".format(df.loc[df['state'] == 'successful'].goal.median()))\n",
    "print(\"The median amount of money raised by successful projects is ${0:,.0f}.\".format(df.loc[df['state'] == 'successful'].usd_pledged.median()))\n",
    "print(\"The median number of days successful projects ran for is {0:,.0f} days.\".format(df.loc[df['state'] == 'successful'].campaign_length.median()))\n",
    "print(\"\")\n",
    "print(\"The median amount of money aimed to raise by failed projects is ${0:,.0f}.\".format(df.loc[df['state'] == 'failed'].goal.median()))\n",
    "print(\"The median amount of money raised by failed projects is ${0:,.0f}.\".format(df.loc[df['state'] == 'failed'].usd_pledged.median()))\n",
    "print(\"The median number of days failed projects ran for is {0:,.0f} days.\".format(df.loc[df['state'] == 'failed'].campaign_length.median()))\n",
    "\n"
   ]
  },
  {
   "cell_type": "code",
   "execution_count": 243,
   "metadata": {},
   "outputs": [],
   "source": [
    "df = df.drop(['id'],axis=1)\n"
   ]
  },
  {
   "cell_type": "markdown",
   "metadata": {},
   "source": [
    "A large majority of the campaigns were launched in the United States at 72.5%, followed by the United Kingdom at 10.3% and Canada at 3.8%. The remaining campaigns were mostly launched in Europe, and a very small number of campaigns were started in Asia. "
   ]
  },
  {
   "cell_type": "code",
   "execution_count": 244,
   "metadata": {},
   "outputs": [
    {
     "data": {
      "text/plain": [
       "the United States     121823\n",
       "the United Kingdom     19075\n",
       "Canada                  7887\n",
       "Australia               3959\n",
       "Germany                 2960\n",
       "France                  2334\n",
       "Mexico                  2224\n",
       "Italy                   2077\n",
       "Spain                   1784\n",
       "the Netherlands         1497\n",
       "Sweden                  1221\n",
       "Hong Kong                978\n",
       "Denmark                  779\n",
       "New Zealand              773\n",
       "Singapore                602\n",
       "Switzerland              571\n",
       "Ireland                  517\n",
       "Belgium                  494\n",
       "Austria                  410\n",
       "Norway                   401\n",
       "Japan                    396\n",
       "Luxembourg                54\n",
       "Name: country_displayable_name, dtype: int64"
      ]
     },
     "execution_count": 244,
     "metadata": {},
     "output_type": "execute_result"
    },
    {
     "data": {
      "text/plain": [
       "the United States     0.704929\n",
       "the United Kingdom    0.110378\n",
       "Canada                0.045638\n",
       "Australia             0.022909\n",
       "Germany               0.017128\n",
       "France                0.013506\n",
       "Mexico                0.012869\n",
       "Italy                 0.012019\n",
       "Spain                 0.010323\n",
       "the Netherlands       0.008662\n",
       "Sweden                0.007065\n",
       "Hong Kong             0.005659\n",
       "Denmark               0.004508\n",
       "New Zealand           0.004473\n",
       "Singapore             0.003483\n",
       "Switzerland           0.003304\n",
       "Ireland               0.002992\n",
       "Belgium               0.002859\n",
       "Austria               0.002372\n",
       "Norway                0.002320\n",
       "Japan                 0.002291\n",
       "Luxembourg            0.000312\n",
       "Name: country_displayable_name, dtype: float64"
      ]
     },
     "execution_count": 244,
     "metadata": {},
     "output_type": "execute_result"
    }
   ],
   "source": [
    "df['country_displayable_name'].value_counts()\n",
    "df['country_displayable_name'].value_counts(normalize=True)"
   ]
  },
  {
   "cell_type": "markdown",
   "metadata": {},
   "source": [
    "No project creator disabled communications with backers, hence this column is dropped. "
   ]
  },
  {
   "cell_type": "code",
   "execution_count": 245,
   "metadata": {},
   "outputs": [
    {
     "data": {
      "text/plain": [
       "False    172816\n",
       "Name: disable_communication, dtype: int64"
      ]
     },
     "execution_count": 245,
     "metadata": {},
     "output_type": "execute_result"
    }
   ],
   "source": [
    "df['disable_communication'].value_counts()\n",
    "df = df.drop(['disable_communication'],axis=1)\n"
   ]
  },
  {
   "cell_type": "code",
   "execution_count": 246,
   "metadata": {},
   "outputs": [
    {
     "data": {
      "text/plain": [
       "successful    100029\n",
       "failed         72787\n",
       "Name: state, dtype: int64"
      ]
     },
     "execution_count": 246,
     "metadata": {},
     "output_type": "execute_result"
    }
   ],
   "source": [
    "df.state.value_counts()"
   ]
  },
  {
   "cell_type": "markdown",
   "metadata": {},
   "source": [
    "The most popular category is Web, followed by Pop and Children's Books. However, a large number of projects under the Web category did not succeed in raising its target amount. The categories with the highest number of successful campaigns are Children's Books, Pop and Fiction, followed by Sculpture and Rock, indicating Books and Music are strong categories. "
   ]
  },
  {
   "cell_type": "code",
   "execution_count": 247,
   "metadata": {},
   "outputs": [
    {
     "data": {
      "text/plain": [
       "Web                3682\n",
       "Comedy             2855\n",
       "Public Art         2397\n",
       "Rock               2393\n",
       "Indie Rock         2392\n",
       "                   ... \n",
       "Social Practice      58\n",
       "Chiptune             49\n",
       "Television           21\n",
       "Taxidermy            10\n",
       "Toys                  7\n",
       "Name: extracted_category, Length: 160, dtype: int64"
      ]
     },
     "execution_count": 247,
     "metadata": {},
     "output_type": "execute_result"
    }
   ],
   "source": [
    "df['extracted_category'].value_counts()"
   ]
  },
  {
   "cell_type": "code",
   "execution_count": 248,
   "metadata": {},
   "outputs": [
    {
     "data": {
      "text/plain": [
       "state       extracted_category\n",
       "failed      Web                   3121\n",
       "successful  Rock                  2393\n",
       "            Indie Rock            2392\n",
       "            Shorts                2388\n",
       "            Country & Folk        2386\n",
       "            Nonfiction            2357\n",
       "            Fiction               2354\n",
       "            Children's Books      2313\n",
       "            Comic Books           2306\n",
       "            Accessories           2301\n",
       "            Illustration          2274\n",
       "            Video Games           2257\n",
       "            Narrative Film        2212\n",
       "            Apparel               2134\n",
       "            Product Design        2111\n",
       "            Tabletop Games        2087\n",
       "failed      Mobile Games          2049\n",
       "successful  Playing Cards         1961\n",
       "            Graphic Novels        1913\n",
       "failed      Software              1909\n",
       "successful  Classical Music       1880\n",
       "            Art Books             1842\n",
       "            Webseries             1831\n",
       "            Pop                   1783\n",
       "failed      Restaurants           1734\n",
       "successful  Public Art            1724\n",
       "failed      Hip-Hop               1693\n",
       "            Food Trucks           1685\n",
       "            Animation             1512\n",
       "            Drinks                1491\n",
       "            Comedy                1476\n",
       "successful  Gadgets               1469\n",
       "            Hardware              1455\n",
       "failed      Electronic Music      1393\n",
       "successful  Dance                 1392\n",
       "            Comedy                1379\n",
       "            Painting              1367\n",
       "failed      Small Batch           1333\n",
       "successful  Jazz                  1310\n",
       "failed      Graphic Design        1243\n",
       "Name: extracted_category, dtype: int64"
      ]
     },
     "execution_count": 248,
     "metadata": {},
     "output_type": "execute_result"
    }
   ],
   "source": [
    "df['extracted_category'].groupby(df['state']).value_counts().nlargest(40)\n",
    "df = df.drop([\"extracted_category\"], axis=1)\n"
   ]
  },
  {
   "cell_type": "code",
   "execution_count": 249,
   "metadata": {},
   "outputs": [
    {
     "data": {
      "text/plain": [
       "state       extracted_subcategory      \n",
       "successful  music/rock                     2393\n",
       "            music/indie rock               2392\n",
       "            film & video/shorts            2388\n",
       "            music/country & folk           2386\n",
       "            publishing/nonfiction          2357\n",
       "            publishing/fiction             2354\n",
       "            publishing/children's books    2313\n",
       "            comics/comic books             2306\n",
       "            fashion/accessories            2301\n",
       "            art/illustration               2274\n",
       "            games/video games              2257\n",
       "            film & video/narrative film    2212\n",
       "            fashion/apparel                2134\n",
       "            design/product design          2111\n",
       "            games/tabletop games           2087\n",
       "failed      games/mobile games             2049\n",
       "            technology/web                 2045\n",
       "successful  games/playing cards            1961\n",
       "            comics/graphic novels          1913\n",
       "failed      technology/software            1909\n",
       "successful  music/classical music          1880\n",
       "            publishing/art books           1842\n",
       "            film & video/webseries         1831\n",
       "            music/pop                      1783\n",
       "failed      food/restaurants               1734\n",
       "successful  art/public art                 1724\n",
       "failed      music/hip-hop                  1693\n",
       "            food/food trucks               1685\n",
       "            film & video/animation         1512\n",
       "            food/drinks                    1491\n",
       "successful  technology/gadgets             1469\n",
       "            technology/hardware            1455\n",
       "failed      music/electronic music         1393\n",
       "successful  dance                          1392\n",
       "            art/painting                   1367\n",
       "failed      food/small batch               1333\n",
       "successful  music/jazz                     1310\n",
       "failed      film & video/comedy            1273\n",
       "            design/graphic design          1243\n",
       "            film & video/drama             1242\n",
       "Name: extracted_subcategory, dtype: int64"
      ]
     },
     "execution_count": 249,
     "metadata": {},
     "output_type": "execute_result"
    }
   ],
   "source": [
    "df['extracted_subcategory'].groupby(df['state']).value_counts().nlargest(40)\n",
    "df = df.drop([\"extracted_subcategory\"], axis=1)\n"
   ]
  },
  {
   "cell_type": "markdown",
   "metadata": {},
   "source": [
    "The highest number of campaigns were launched in 2015, and the lowest in 2009 which was the year the website was founded. The highest percentage of campaings were launched in the month of May, however there is an even spread campaigns launched throughout the year. There is lowest activity in December, which coincides with the holiday season throughout the world. Tuesday was the most popular day to launch a campaign, closely followed by Monday. There was lower activity on the weekends, as expected. The most popular times to launch a campaign were 4pm - 6 pm, and from 6pm - 8pm, as people are more likely to have free time to launch a campaign after work. "
   ]
  },
  {
   "cell_type": "code",
   "execution_count": 250,
   "metadata": {},
   "outputs": [
    {
     "data": {
      "text/plain": [
       "2015    30597\n",
       "2016    23458\n",
       "2017    23259\n",
       "2019    23153\n",
       "2014    21820\n",
       "2018    19655\n",
       "2013     9772\n",
       "2020     8960\n",
       "2012     6945\n",
       "2011     3663\n",
       "2010     1320\n",
       "2009      214\n",
       "Name: launch_year, dtype: int64"
      ]
     },
     "execution_count": 250,
     "metadata": {},
     "output_type": "execute_result"
    },
    {
     "data": {
      "text/plain": [
       "2015    0.177050\n",
       "2016    0.135740\n",
       "2017    0.134588\n",
       "2019    0.133975\n",
       "2014    0.126261\n",
       "2018    0.113734\n",
       "2013    0.056546\n",
       "2020    0.051847\n",
       "2012    0.040187\n",
       "2011    0.021196\n",
       "2010    0.007638\n",
       "2009    0.001238\n",
       "Name: launch_year, dtype: float64"
      ]
     },
     "execution_count": 250,
     "metadata": {},
     "output_type": "execute_result"
    }
   ],
   "source": [
    "df['launch_year'].value_counts(ascending=False)\n",
    "df['launch_year'].value_counts(normalize=True)"
   ]
  },
  {
   "cell_type": "code",
   "execution_count": 251,
   "metadata": {},
   "outputs": [
    {
     "data": {
      "text/plain": [
       "March        16030\n",
       "May          15643\n",
       "October      15529\n",
       "July         15138\n",
       "April        15055\n",
       "February     14927\n",
       "November     14538\n",
       "August       14165\n",
       "January      14125\n",
       "June         13959\n",
       "September    13954\n",
       "December      9753\n",
       "Name: launch_month, dtype: int64"
      ]
     },
     "execution_count": 251,
     "metadata": {},
     "output_type": "execute_result"
    },
    {
     "data": {
      "text/plain": [
       "March        0.092758\n",
       "May          0.090518\n",
       "October      0.089859\n",
       "July         0.087596\n",
       "April        0.087116\n",
       "February     0.086375\n",
       "November     0.084124\n",
       "August       0.081966\n",
       "January      0.081734\n",
       "June         0.080774\n",
       "September    0.080745\n",
       "December     0.056436\n",
       "Name: launch_month, dtype: float64"
      ]
     },
     "execution_count": 251,
     "metadata": {},
     "output_type": "execute_result"
    }
   ],
   "source": [
    "df['launch_month'].value_counts()\n",
    "df['launch_month'].value_counts( normalize=True)"
   ]
  },
  {
   "cell_type": "code",
   "execution_count": 252,
   "metadata": {},
   "outputs": [
    {
     "data": {
      "text/plain": [
       "Tuesday      35653\n",
       "Monday       30122\n",
       "Wednesday    30054\n",
       "Thursday     26440\n",
       "Friday       25900\n",
       "Saturday     13673\n",
       "Sunday       10974\n",
       "Name: launch_day, dtype: int64"
      ]
     },
     "execution_count": 252,
     "metadata": {},
     "output_type": "execute_result"
    },
    {
     "data": {
      "text/plain": [
       "Tuesday      0.206306\n",
       "Monday       0.174301\n",
       "Wednesday    0.173908\n",
       "Thursday     0.152995\n",
       "Friday       0.149870\n",
       "Saturday     0.079119\n",
       "Sunday       0.063501\n",
       "Name: launch_day, dtype: float64"
      ]
     },
     "execution_count": 252,
     "metadata": {},
     "output_type": "execute_result"
    }
   ],
   "source": [
    "df['launch_day'].value_counts()\n",
    "df['launch_day'].value_counts( normalize=True)"
   ]
  },
  {
   "cell_type": "code",
   "execution_count": 253,
   "metadata": {},
   "outputs": [
    {
     "data": {
      "text/plain": [
       "4pm - 6pm      24932\n",
       "6pm - 8pm      22311\n",
       "2pm - 4pm      21143\n",
       "8pm - 10pm     20279\n",
       "10pm - 12am    17166\n",
       "12am - 2am     13544\n",
       "12pm - 2pm     13052\n",
       "2am - 4am      10596\n",
       "4am - 6am       8905\n",
       "10am - 12pm     7581\n",
       "6am - 8am       6889\n",
       "8am - 10am      6418\n",
       "Name: launch_hour, dtype: int64"
      ]
     },
     "execution_count": 253,
     "metadata": {},
     "output_type": "execute_result"
    },
    {
     "data": {
      "text/plain": [
       "4pm - 6pm      0.144269\n",
       "6pm - 8pm      0.129103\n",
       "2pm - 4pm      0.122344\n",
       "8pm - 10pm     0.117344\n",
       "10pm - 12am    0.099331\n",
       "12am - 2am     0.078372\n",
       "12pm - 2pm     0.075525\n",
       "2am - 4am      0.061314\n",
       "4am - 6am      0.051529\n",
       "10am - 12pm    0.043867\n",
       "6am - 8am      0.039863\n",
       "8am - 10am     0.037138\n",
       "Name: launch_hour, dtype: float64"
      ]
     },
     "execution_count": 253,
     "metadata": {},
     "output_type": "execute_result"
    }
   ],
   "source": [
    "df['launch_hour'].value_counts()\n",
    "df['launch_hour'].value_counts( normalize=True)\n"
   ]
  },
  {
   "cell_type": "markdown",
   "metadata": {},
   "source": [
    "Only 11.4% of campaigns were staff picks. No campaigns were starrable, hence the column was dropped. There is a relatively even split of successful and failed campaigns, with just over half of campaigns being successful at 52%. "
   ]
  },
  {
   "cell_type": "code",
   "execution_count": 254,
   "metadata": {},
   "outputs": [
    {
     "data": {
      "text/plain": [
       "True      22373\n",
       "False    150443\n",
       "Name: staff_pick, dtype: int64"
      ]
     },
     "execution_count": 254,
     "metadata": {},
     "output_type": "execute_result"
    },
    {
     "data": {
      "text/plain": [
       "True     0.129461\n",
       "False    0.870539\n",
       "Name: staff_pick, dtype: float64"
      ]
     },
     "execution_count": 254,
     "metadata": {},
     "output_type": "execute_result"
    }
   ],
   "source": [
    "df['staff_pick'].value_counts(ascending=True)\n",
    "df['staff_pick'].value_counts(ascending=True, normalize=True)"
   ]
  },
  {
   "cell_type": "code",
   "execution_count": 255,
   "metadata": {},
   "outputs": [
    {
     "data": {
      "text/plain": [
       "False    172816\n",
       "Name: is_starrable, dtype: int64"
      ]
     },
     "execution_count": 255,
     "metadata": {},
     "output_type": "execute_result"
    }
   ],
   "source": [
    "df['is_starrable'].value_counts()\n",
    "df = df.drop(['is_starrable'],axis=1)\n"
   ]
  },
  {
   "cell_type": "code",
   "execution_count": 256,
   "metadata": {},
   "outputs": [
    {
     "data": {
      "text/plain": [
       "successful    100029\n",
       "failed         72787\n",
       "Name: state, dtype: int64"
      ]
     },
     "execution_count": 256,
     "metadata": {},
     "output_type": "execute_result"
    },
    {
     "data": {
      "text/plain": [
       "successful    0.578818\n",
       "failed        0.421182\n",
       "Name: state, dtype: float64"
      ]
     },
     "execution_count": 256,
     "metadata": {},
     "output_type": "execute_result"
    }
   ],
   "source": [
    "df['state'].value_counts()\n",
    "df['state'].value_counts(normalize=True)"
   ]
  },
  {
   "cell_type": "markdown",
   "metadata": {},
   "source": []
  },
  {
   "cell_type": "code",
   "execution_count": 257,
   "metadata": {},
   "outputs": [
    {
     "data": {
      "text/plain": [
       "array([[<matplotlib.axes._subplots.AxesSubplot object at 0x16368d6d0>,\n",
       "        <matplotlib.axes._subplots.AxesSubplot object at 0x17d427fd0>,\n",
       "        <matplotlib.axes._subplots.AxesSubplot object at 0x1827649d0>],\n",
       "       [<matplotlib.axes._subplots.AxesSubplot object at 0x178dfb4c0>,\n",
       "        <matplotlib.axes._subplots.AxesSubplot object at 0x1797dfb20>,\n",
       "        <matplotlib.axes._subplots.AxesSubplot object at 0x1903950a0>],\n",
       "       [<matplotlib.axes._subplots.AxesSubplot object at 0x190387070>,\n",
       "        <matplotlib.axes._subplots.AxesSubplot object at 0x19a26c910>,\n",
       "        <matplotlib.axes._subplots.AxesSubplot object at 0x19a24ae20>]],\n",
       "      dtype=object)"
      ]
     },
     "execution_count": 257,
     "metadata": {},
     "output_type": "execute_result"
    },
    {
     "data": {
      "image/png": "[encoded data removed]",
      "text/plain": [
       "<Figure size 432x288 with 9 Axes>"
      ]
     },
     "metadata": {
      "needs_background": "light"
     },
     "output_type": "display_data"
    }
   ],
   "source": [
    "new_x_train= df[['usd_pledged', 'launch_year', 'launch_month','campaign_length','name_length','blurb_length','backers_count','goal']].copy()\n",
    "new_x_train.hist(bins=10, color='lightblue',edgecolor='white',linewidth=2.0,\n",
    "          xlabelsize=10, ylabelsize=8, grid=False)   \n",
    "plt.tight_layout(rect=(0, 0, 1.2, 1.2))"
   ]
  },
  {
   "cell_type": "markdown",
   "metadata": {},
   "source": [
    "Projects that succeeded had much lower goal amounts, compared to projects that failed to achieve their goal. This indicates that it may be beneficial for project creators to set a lower and more realistic goal amount to increase the chances for project success. \n",
    "\n",
    "Projects that failed have raised consistently low amounts, while there has been a steady increase in USD pledged for succesful projects from 2010 to 2020. "
   ]
  },
  {
   "cell_type": "code",
   "execution_count": 258,
   "metadata": {},
   "outputs": [
    {
     "data": {
      "text/plain": [
       "<matplotlib.axes._subplots.AxesSubplot at 0x199d7e6d0>"
      ]
     },
     "execution_count": 258,
     "metadata": {},
     "output_type": "execute_result"
    },
    {
     "data": {
      "image/png": "[encoded data removed]",
      "text/plain": [
       "<Figure size 432x288 with 1 Axes>"
      ]
     },
     "metadata": {
      "needs_background": "light"
     },
     "output_type": "display_data"
    }
   ],
   "source": [
    "sns.lineplot(x='launch_year',y='goal',  hue = 'state', palette='hot' , data=df)"
   ]
  },
  {
   "cell_type": "code",
   "execution_count": 259,
   "metadata": {},
   "outputs": [
    {
     "data": {
      "text/plain": [
       "<matplotlib.axes._subplots.AxesSubplot at 0x199bb5460>"
      ]
     },
     "execution_count": 259,
     "metadata": {},
     "output_type": "execute_result"
    },
    {
     "data": {
      "image/png": "[encoded data removed]",
      "text/plain": [
       "<Figure size 432x288 with 1 Axes>"
      ]
     },
     "metadata": {
      "needs_background": "light"
     },
     "output_type": "display_data"
    }
   ],
   "source": [
    "sns.lineplot(x='launch_year',y='usd_pledged',  hue = 'state', palette='hot', data=df)\n"
   ]
  },
  {
   "cell_type": "markdown",
   "metadata": {},
   "source": [
    "Staff picked campaigns were more likely to succeed than fail. Successful campaigns also had a much higher mean number of backers. Blurb lengths were around the same for both successful and failed projects, indicating that blurb length has minimal impact on project success. Successful projects also slightly longer names and fewer campaign days, suggesting that the ideal campaign length is around 30 days. "
   ]
  },
  {
   "cell_type": "code",
   "execution_count": 260,
   "metadata": {},
   "outputs": [
    {
     "data": {
      "text/plain": [
       "<matplotlib.axes._subplots.AxesSubplot at 0x1995e1d30>"
      ]
     },
     "execution_count": 260,
     "metadata": {},
     "output_type": "execute_result"
    },
    {
     "data": {
      "image/png": "[encoded data removed]",
      "text/plain": [
       "<Figure size 432x288 with 1 Axes>"
      ]
     },
     "metadata": {
      "needs_background": "light"
     },
     "output_type": "display_data"
    }
   ],
   "source": [
    "pd.crosstab(df['state'],df['staff_pick']).plot.bar(color = ['firebrick', 'darkcyan'])"
   ]
  },
  {
   "cell_type": "code",
   "execution_count": 261,
   "metadata": {},
   "outputs": [
    {
     "data": {
      "text/plain": [
       "Text(0.5, 0, 'Mean backer count')"
      ]
     },
     "execution_count": 261,
     "metadata": {},
     "output_type": "execute_result"
    },
    {
     "data": {
      "image/png": "[encoded data removed]",
      "text/plain": [
       "<Figure size 432x288 with 1 Axes>"
      ]
     },
     "metadata": {
      "needs_background": "light"
     },
     "output_type": "display_data"
    }
   ],
   "source": [
    "graph1 = df.groupby('state').backers_count.mean().plot(kind='bar', color=['firebrick', 'darkcyan'], rot=0)\n",
    "graph1.set_xlabel('Mean backer count')\n",
    "graph1.xaxis.set_label_position('top') "
   ]
  },
  {
   "cell_type": "code",
   "execution_count": 262,
   "metadata": {},
   "outputs": [
    {
     "data": {
      "text/plain": [
       "Text(0.5, 0, 'Mean goal amount')"
      ]
     },
     "execution_count": 262,
     "metadata": {},
     "output_type": "execute_result"
    },
    {
     "data": {
      "image/png": "[encoded data removed]",
      "text/plain": [
       "<Figure size 432x288 with 1 Axes>"
      ]
     },
     "metadata": {
      "needs_background": "light"
     },
     "output_type": "display_data"
    }
   ],
   "source": [
    "graph1 = df.groupby('state').goal.mean().plot(kind='bar', color=['firebrick', 'darkcyan'], rot=0)\n",
    "graph1.set_xlabel('Mean goal amount')\n",
    "graph1.xaxis.set_label_position('top') "
   ]
  },
  {
   "cell_type": "code",
   "execution_count": 263,
   "metadata": {},
   "outputs": [
    {
     "data": {
      "text/plain": [
       "Text(0.5, 0, 'Mean amount pledged (USD)')"
      ]
     },
     "execution_count": 263,
     "metadata": {},
     "output_type": "execute_result"
    },
    {
     "data": {
      "image/png": "[encoded data removed]",
      "text/plain": [
       "<Figure size 432x288 with 1 Axes>"
      ]
     },
     "metadata": {
      "needs_background": "light"
     },
     "output_type": "display_data"
    }
   ],
   "source": [
    "graph = df.groupby('state').usd_pledged.mean().plot(kind='bar', color=['firebrick', 'darkcyan'], rot=0)\n",
    "graph.set_xlabel('Mean amount pledged (USD)')\n",
    "graph.xaxis.set_label_position('top') \n"
   ]
  },
  {
   "cell_type": "code",
   "execution_count": 264,
   "metadata": {},
   "outputs": [
    {
     "data": {
      "text/plain": [
       "Text(0.5, 0, 'Mean blurb length')"
      ]
     },
     "execution_count": 264,
     "metadata": {},
     "output_type": "execute_result"
    },
    {
     "data": {
      "image/png": "[encoded data removed]",
      "text/plain": [
       "<Figure size 432x288 with 1 Axes>"
      ]
     },
     "metadata": {
      "needs_background": "light"
     },
     "output_type": "display_data"
    }
   ],
   "source": [
    "graph = df.groupby('state').blurb_length.mean().plot(kind='bar', color=['firebrick', 'darkcyan'], rot=0)\n",
    "graph.set_xlabel('Mean blurb length')\n",
    "graph.xaxis.set_label_position('top') \n"
   ]
  },
  {
   "cell_type": "code",
   "execution_count": 265,
   "metadata": {},
   "outputs": [
    {
     "data": {
      "text/plain": [
       "Text(0.5, 0, 'Mean name length')"
      ]
     },
     "execution_count": 265,
     "metadata": {},
     "output_type": "execute_result"
    },
    {
     "data": {
      "image/png": "[encoded data removed]",
      "text/plain": [
       "<Figure size 432x288 with 1 Axes>"
      ]
     },
     "metadata": {
      "needs_background": "light"
     },
     "output_type": "display_data"
    }
   ],
   "source": [
    "graph = df.groupby('state').name_length.mean().plot(kind='bar', color=['firebrick', 'darkcyan'], rot=0)\n",
    "graph.set_xlabel('Mean name length')\n",
    "graph.xaxis.set_label_position('top') "
   ]
  },
  {
   "cell_type": "code",
   "execution_count": 266,
   "metadata": {},
   "outputs": [
    {
     "data": {
      "text/plain": [
       "Text(0.5, 0, 'Mean campaign length')"
      ]
     },
     "execution_count": 266,
     "metadata": {},
     "output_type": "execute_result"
    },
    {
     "data": {
      "image/png": "[encoded data removed]",
      "text/plain": [
       "<Figure size 432x288 with 1 Axes>"
      ]
     },
     "metadata": {
      "needs_background": "light"
     },
     "output_type": "display_data"
    }
   ],
   "source": [
    "graph = df.groupby('state').campaign_length.mean().plot(kind='bar', color=['firebrick', 'darkcyan'], rot=0)\n",
    "graph.set_xlabel('Mean campaign length')\n",
    "graph.xaxis.set_label_position('top') "
   ]
  },
  {
   "cell_type": "markdown",
   "metadata": {},
   "source": [
    "The boxplots below show that the highest median amount pledged were on Tuesdays. Tuesday also has higher third quartile amounts and maximum amounts. On the other hand, lower amounts of money were pledged on the weekends. \n",
    "\n",
    "The best month to raise money are May and March, while December sees the least amount of money raised, in alignment with the analysis above. The times associated with the most amount of money raised are 2pm-4pm, followed by 4pm-6pm. Amount of money raised steadily decreases from 6pm onwards as people start to switch off for the day."
   ]
  },
  {
   "cell_type": "code",
   "execution_count": 267,
   "metadata": {},
   "outputs": [
    {
     "data": {
      "text/plain": [
       "(array([0, 1, 2, 3, 4, 5, 6]), <a list of 7 Text major ticklabel objects>)"
      ]
     },
     "execution_count": 267,
     "metadata": {},
     "output_type": "execute_result"
    },
    {
     "data": {
      "image/png": "[encoded data removed]",
      "text/plain": [
       "<Figure size 432x288 with 1 Axes>"
      ]
     },
     "metadata": {
      "needs_background": "light"
     },
     "output_type": "display_data"
    }
   ],
   "source": [
    "chart = sns.boxplot(x=\"launch_day\", y=\"usd_pledged\", data=df ,order=['Monday','Tuesday','Wednesday','Thursday','Friday','Saturday','Sunday'],showfliers=False );\n",
    "plt.xticks(rotation=30)\n",
    "plt.tight_layout()"
   ]
  },
  {
   "cell_type": "code",
   "execution_count": 268,
   "metadata": {},
   "outputs": [
    {
     "data": {
      "text/plain": [
       "(array([ 0,  1,  2,  3,  4,  5,  6,  7,  8,  9, 10, 11]),\n",
       " <a list of 12 Text major ticklabel objects>)"
      ]
     },
     "execution_count": 268,
     "metadata": {},
     "output_type": "execute_result"
    },
    {
     "data": {
      "image/png": "[encoded data removed]",
      "text/plain": [
       "<Figure size 360x360 with 1 Axes>"
      ]
     },
     "metadata": {
      "needs_background": "light"
     },
     "output_type": "display_data"
    }
   ],
   "source": [
    "chart = sns.catplot(x=\"launch_month\", y=\"usd_pledged\", data=df, jitter=False,order=['January','February','March','April','May','June','July','August','September','October','November','December']);\n",
    "plt.xticks(rotation=40)\n",
    "plt.tight_layout()"
   ]
  },
  {
   "cell_type": "code",
   "execution_count": 269,
   "metadata": {},
   "outputs": [
    {
     "data": {
      "text/plain": [
       "(array([ 0,  1,  2,  3,  4,  5,  6,  7,  8,  9, 10, 11]),\n",
       " <a list of 12 Text major ticklabel objects>)"
      ]
     },
     "execution_count": 269,
     "metadata": {},
     "output_type": "execute_result"
    },
    {
     "data": {
      "image/png": "[encoded data removed]",
      "text/plain": [
       "<Figure size 360x360 with 1 Axes>"
      ]
     },
     "metadata": {
      "needs_background": "light"
     },
     "output_type": "display_data"
    }
   ],
   "source": [
    "chart = sns.catplot(x=\"launch_hour\", y=\"usd_pledged\", data=df, jitter=False, order=['12am - 2am','2am - 4am', '4am - 6am', '6am - 8am', '8am - 10am', '10am - 12pm', '12pm - 2pm', '2pm - 4pm', '4pm - 6pm','6pm - 8pm','8pm - 10pm', '10pm - 12am']) \n",
    "plt.xticks(rotation=70)\n",
    "plt.tight_layout()"
   ]
  },
  {
   "cell_type": "markdown",
   "metadata": {},
   "source": [
    "# Predictive Analysis"
   ]
  },
  {
   "cell_type": "markdown",
   "metadata": {},
   "source": [
    "Before model training, the dataset is split into training and testing sets. 80% of the dataset is used for training and 20% of the dataset is used for testing. The target variable is the column 'state', which tells us whether or not a project met its funding goal (successful/ failed). One hot encoding is performed on both the train and test sets to transform categorical variables into numerical variables. StandardScaler is then applied to ensure that the features are normally distributed."
   ]
  },
  {
   "cell_type": "code",
   "execution_count": 270,
   "metadata": {},
   "outputs": [
    {
     "data": {
      "text/plain": [
       "(138252, 61)"
      ]
     },
     "execution_count": 270,
     "metadata": {},
     "output_type": "execute_result"
    },
    {
     "data": {
      "text/plain": [
       "(34564, 61)"
      ]
     },
     "execution_count": 270,
     "metadata": {},
     "output_type": "execute_result"
    }
   ],
   "source": [
    "#concat_df = pd.concat([x_train , x_test])\n",
    "\n",
    "#features_df = pd.get_dummies(concat_df)\n",
    "y = df['state'] \n",
    "df = df.drop(['state'], axis=1)\n",
    "#X = features_df\n",
    "#x_train, x_test, y_train, y_test = train_test_split(X, y,test_size=0.20, random_state=4)\n",
    "\n",
    "#df = df[~df.index.duplicated()]\n",
    "\n",
    "x = df\n",
    "x_train, x_test, y_train, y_test = train_test_split(x, y, test_size=0.2, random_state = 4)\n",
    "\n",
    "\n",
    "#one hot encoding \n",
    "\n",
    "x_train = pd.get_dummies(x_train)\n",
    "x_test = pd.get_dummies(x_test)\n",
    "\n",
    "x_train.shape\n",
    "x_test.shape"
   ]
  },
  {
   "cell_type": "code",
   "execution_count": 271,
   "metadata": {},
   "outputs": [],
   "source": [
    "#data normalisation - standard scaler \n",
    "from sklearn.preprocessing import StandardScaler\n",
    "\n",
    "scaler = StandardScaler()\n",
    "normalized_x_train = pd.DataFrame(scaler.fit_transform(x_train), columns = x_train.columns)\n",
    "normalized_x_test = pd.DataFrame(scaler.fit_transform(x_test), columns = x_test.columns)"
   ]
  },
  {
   "cell_type": "markdown",
   "metadata": {},
   "source": [
    "# Model 1: Logistic Regression"
   ]
  },
  {
   "cell_type": "markdown",
   "metadata": {},
   "source": [
    "Logistic regression has an accuracy rate of 78.15%. According to the confusion matrix, the model classified 27013 instances correctly and 7551 instances incorrectly. One interesting thing to note is that \"failed\" class had low precision but high recall, and \"successful\" class had high precision but low recall. Both classes have relatively high f1-scores. "
   ]
  },
  {
   "cell_type": "code",
   "execution_count": 272,
   "metadata": {},
   "outputs": [
    {
     "name": "stderr",
     "output_type": "stream",
     "text": [
      "/Users/elleentiong/opt/anaconda3/lib/python3.8/site-packages/sklearn/linear_model/_sag.py:329: ConvergenceWarning: The max_iter was reached which means the coef_ did not converge\n",
      "  warnings.warn(\"The max_iter was reached which means \"\n"
     ]
    },
    {
     "data": {
      "text/plain": [
       "LogisticRegression(solver='sag')"
      ]
     },
     "execution_count": 272,
     "metadata": {},
     "output_type": "execute_result"
    },
    {
     "name": "stdout",
     "output_type": "stream",
     "text": [
      "['failed' 'failed' 'failed' 'successful' 'failed' 'failed' 'successful'\n",
      " 'successful' 'successful' 'failed']\n"
     ]
    }
   ],
   "source": [
    "from sklearn.linear_model import LogisticRegression\n",
    "\n",
    "model = LogisticRegression(solver='sag')\n",
    "model.fit(normalized_x_train, y_train)\n",
    "y_pred_lr = model.predict(normalized_x_test)\n",
    "print(y_pred_lr[:10])\n"
   ]
  },
  {
   "cell_type": "code",
   "execution_count": 273,
   "metadata": {},
   "outputs": [
    {
     "name": "stdout",
     "output_type": "stream",
     "text": [
      "Accuracy: 78.15%\n"
     ]
    }
   ],
   "source": [
    "# evaluate predictions\n",
    "accuracy = accuracy_score(y_test, y_pred_lr)\n",
    "print(\"Accuracy: %.2f%%\" % (accuracy * 100.0))"
   ]
  },
  {
   "cell_type": "code",
   "execution_count": 274,
   "metadata": {},
   "outputs": [
    {
     "name": "stdout",
     "output_type": "stream",
     "text": [
      "[[13883   826]\n",
      " [ 6726 13129]]\n"
     ]
    }
   ],
   "source": [
    "confusion_matrix = confusion_matrix(y_test, y_pred_lr)\n",
    "print(confusion_matrix)"
   ]
  },
  {
   "cell_type": "code",
   "execution_count": 275,
   "metadata": {},
   "outputs": [
    {
     "name": "stdout",
     "output_type": "stream",
     "text": [
      "              precision    recall  f1-score   support\n",
      "\n",
      "      failed       0.67      0.94      0.79     14709\n",
      "  successful       0.94      0.66      0.78     19855\n",
      "\n",
      "    accuracy                           0.78     34564\n",
      "   macro avg       0.81      0.80      0.78     34564\n",
      "weighted avg       0.83      0.78      0.78     34564\n",
      "\n"
     ]
    }
   ],
   "source": [
    "\n",
    "#Precision is the ability of a classifier not to label an instance positive that is actually negative\n",
    "#Recall is the ability of a classifier to find all positive instances.\n",
    "\n",
    "from sklearn.metrics import classification_report\n",
    "print(classification_report(y_test, y_pred_lr))"
   ]
  },
  {
   "cell_type": "markdown",
   "metadata": {},
   "source": [
    "# Model 2: Random Forest Classifier"
   ]
  },
  {
   "cell_type": "markdown",
   "metadata": {},
   "source": [
    "The random forest classifier outperformed the logistic regression model with an accuracy of 89.19%. The model also produced higher f1-scores, performing strongly both in precision and recall. There were 30849 correct classifications and 3715 incorrect classifications. "
   ]
  },
  {
   "cell_type": "code",
   "execution_count": 276,
   "metadata": {},
   "outputs": [
    {
     "data": {
      "text/plain": [
       "RandomForestClassifier(max_leaf_nodes=16, n_estimators=500, n_jobs=-1)"
      ]
     },
     "execution_count": 276,
     "metadata": {},
     "output_type": "execute_result"
    },
    {
     "name": "stdout",
     "output_type": "stream",
     "text": [
      "['failed' 'failed' 'successful' ... 'failed' 'failed' 'successful']\n"
     ]
    },
    {
     "data": {
      "text/plain": [
       "<matplotlib.axes._subplots.AxesSubplot at 0x1995f49d0>"
      ]
     },
     "execution_count": 276,
     "metadata": {},
     "output_type": "execute_result"
    },
    {
     "data": {
      "image/png": "[encoded data removed]",
      "text/plain": [
       "<Figure size 432x288 with 1 Axes>"
      ]
     },
     "metadata": {
      "needs_background": "light"
     },
     "output_type": "display_data"
    }
   ],
   "source": [
    "#https://stackoverflow.com/questions/44511636/matplotlib-plot-feature-importance-with-feature-names\n",
    "from sklearn.metrics import confusion_matrix\n",
    "\n",
    "rf = RandomForestClassifier(n_estimators = 500, max_leaf_nodes=16, n_jobs=-1)\n",
    "rf.fit(x_train, y_train) #training with train set\n",
    "\n",
    "\n",
    "y_pred = rf.predict(x_test)\n",
    "print(y_pred)\n",
    "(pd.Series(rf.feature_importances_, index=x_train.columns)\n",
    "   .nlargest(7)\n",
    "   .plot(kind='barh')) \n"
   ]
  },
  {
   "cell_type": "code",
   "execution_count": 277,
   "metadata": {},
   "outputs": [
    {
     "name": "stdout",
     "output_type": "stream",
     "text": [
      "Accuracy: 89.49%\n"
     ]
    }
   ],
   "source": [
    "accuracy = accuracy_score(y_test, y_pred)\n",
    "print(\"Accuracy: %.2f%%\" % (accuracy * 100.0))"
   ]
  },
  {
   "cell_type": "code",
   "execution_count": 278,
   "metadata": {},
   "outputs": [
    {
     "name": "stdout",
     "output_type": "stream",
     "text": [
      "[[11881  2828]\n",
      " [  806 19049]]\n"
     ]
    }
   ],
   "source": [
    "confusion_matrix = confusion_matrix(y_test, y_pred)\n",
    "print(confusion_matrix)"
   ]
  },
  {
   "cell_type": "code",
   "execution_count": 279,
   "metadata": {},
   "outputs": [
    {
     "name": "stdout",
     "output_type": "stream",
     "text": [
      "              precision    recall  f1-score   support\n",
      "\n",
      "      failed       0.94      0.81      0.87     14709\n",
      "  successful       0.87      0.96      0.91     19855\n",
      "\n",
      "    accuracy                           0.89     34564\n",
      "   macro avg       0.90      0.88      0.89     34564\n",
      "weighted avg       0.90      0.89      0.89     34564\n",
      "\n"
     ]
    }
   ],
   "source": [
    "from sklearn.metrics import classification_report\n",
    "print(classification_report(y_test, y_pred))"
   ]
  },
  {
   "cell_type": "markdown",
   "metadata": {},
   "source": [
    "# Model 3: XGBoost\n"
   ]
  },
  {
   "cell_type": "markdown",
   "metadata": {},
   "source": [
    "XGBoosting performed slightly better than Random Forest, and has a similar f1 score for 'successful' class and a slightly higher f1 score for 'failed' class. "
   ]
  },
  {
   "cell_type": "code",
   "execution_count": 280,
   "metadata": {},
   "outputs": [
    {
     "data": {
      "text/plain": [
       "XGBClassifier(base_score=0.5, booster='gbtree', colsample_bylevel=1,\n",
       "              colsample_bynode=1, colsample_bytree=1, gamma=0, gpu_id=-1,\n",
       "              importance_type='gain', interaction_constraints='',\n",
       "              learning_rate=0.01, max_delta_step=0, max_depth=10,\n",
       "              min_child_weight=1, missing=nan, monotone_constraints='()',\n",
       "              n_estimators=100, n_jobs=0, num_parallel_tree=1, random_state=0,\n",
       "              reg_alpha=0, reg_lambda=1, scale_pos_weight=1, subsample=1,\n",
       "              tree_method='exact', validate_parameters=1, verbosity=None)"
      ]
     },
     "execution_count": 280,
     "metadata": {},
     "output_type": "execute_result"
    },
    {
     "name": "stdout",
     "output_type": "stream",
     "text": [
      "['failed' 'failed' 'successful' ... 'failed' 'failed' 'successful']\n"
     ]
    }
   ],
   "source": [
    "#xgboost = overfitting?\n",
    "#normalized_x_test = normalized_x_test[normalized_x_train.columns]\n",
    "import xgboost as xgb\n",
    "from xgboost import XGBClassifier\n",
    "\n",
    "\n",
    "normalized_x_test = normalized_x_test.to_numpy()\n",
    "normalized_x_train = normalized_x_train.to_numpy()\n",
    "\n",
    "\n",
    "xgbmodel = XGBClassifier(learning_rate=0.01, max_depth = 10)\n",
    "#xgbmodel = XGBClassifier()\n",
    "xgbmodel.fit(normalized_x_train, y_train)\n",
    "# make predictions for test data\n",
    "y_pred_xgb = xgbmodel.predict(normalized_x_test)\n",
    "print(y_pred_xgb)\n",
    "# evaluate predictions\n"
   ]
  },
  {
   "cell_type": "code",
   "execution_count": 281,
   "metadata": {},
   "outputs": [
    {
     "name": "stdout",
     "output_type": "stream",
     "text": [
      "Accuracy: 90.19%\n"
     ]
    }
   ],
   "source": [
    "accuracy = accuracy_score(y_test, y_pred_xgb)\n",
    "print(\"Accuracy: %.2f%%\" % (accuracy * 100.0))"
   ]
  },
  {
   "cell_type": "code",
   "execution_count": 282,
   "metadata": {},
   "outputs": [
    {
     "ename": "TypeError",
     "evalue": "'numpy.ndarray' object is not callable",
     "output_type": "error",
     "traceback": [
      "\u001b[0;31m---------------------------------------------------------------------------\u001b[0m",
      "\u001b[0;31mTypeError\u001b[0m                                 Traceback (most recent call last)",
      "\u001b[0;32m<ipython-input-282-3578d14bb652>\u001b[0m in \u001b[0;36m<module>\u001b[0;34m\u001b[0m\n\u001b[0;32m----> 1\u001b[0;31m \u001b[0mconfusion_matrix\u001b[0m \u001b[0;34m=\u001b[0m \u001b[0mconfusion_matrix\u001b[0m\u001b[0;34m(\u001b[0m\u001b[0my_test\u001b[0m\u001b[0;34m,\u001b[0m \u001b[0my_pred\u001b[0m\u001b[0;34m)\u001b[0m\u001b[0;34m\u001b[0m\u001b[0;34m\u001b[0m\u001b[0m\n\u001b[0m\u001b[1;32m      2\u001b[0m \u001b[0mprint\u001b[0m\u001b[0;34m(\u001b[0m\u001b[0mconfusion_matrix\u001b[0m\u001b[0;34m)\u001b[0m\u001b[0;34m\u001b[0m\u001b[0;34m\u001b[0m\u001b[0m\n",
      "\u001b[0;31mTypeError\u001b[0m: 'numpy.ndarray' object is not callable"
     ]
    }
   ],
   "source": [
    "confusion_matrix = confusion_matrix(y_test, y_pred)\n",
    "print(confusion_matrix)"
   ]
  },
  {
   "cell_type": "code",
   "execution_count": null,
   "metadata": {},
   "outputs": [],
   "source": [
    "from sklearn.metrics import classification_report\n",
    "print(classification_report(y_test, y_pred_xgb))"
   ]
  },
  {
   "cell_type": "markdown",
   "metadata": {},
   "source": [
    "# Conclusion and Recommendations"
   ]
  },
  {
   "cell_type": "markdown",
   "metadata": {},
   "source": [
    "To increase the chances of campaign success, project creators are recommended to: \n",
    "- launch projects in music, specifically Rock and Country music and in Books \n",
    "- launch projects in the month of March\n",
    "- launch projects on Tuesdays\n",
    "- increase marketing activity between 2pm to 6pm as there is higher donation activity during these times \n",
    "- set a lower goal amount (around 3500 USD)\n",
    "- set a campaign length of around 30 days \n",
    "- aim to have the project picked by staff \n",
    "\n",
    "\n",
    "Things to avoid include:\n",
    "- launching projects in Web, Mobile Games, Software and Restaurants \n",
    "- launching projects at the end of the year (October, November, December)\n",
    "- lauching projects on the weekends \n",
    "- launching projects between 8pm to 12pm \n",
    "- setting a high goal amount \n",
    "- having a campaign length longer than a month\n",
    "\n",
    "The machine learning model used to predict whether or not a project would be successful was trained using Logistic Regression, Random Forest and XGBoosting. All three models performed well, however the XGBoosting model had the best performance with an accuracy of 90.19%. All three models also had high f1 scores, which indicates a good balance between precision and recall. "
   ]
  },
  {
   "cell_type": "markdown",
   "metadata": {},
   "source": [
    "# References"
   ]
  },
  {
   "cell_type": "markdown",
   "metadata": {},
   "source": [
    "https://webrobots.io/kickstarter-datasets/\n",
    "\n",
    "https://stackoverflow.com/questions/52289386/loading-multiple-csv-files-of-a-folder-into-one-dataframe\n",
    "\n",
    "https://stackoverflow.com/questions/44511636/matplotlib-plot-feature-importance-with-feature-names\n",
    "\n",
    "https://stackoverflow.com/questions/45603232/python-difference-between-two-unix-timestamps\n",
    "\n",
    "https://stackoverflow.com/questions/63278204/python-pandas-regex-outputting-nan\n",
    "\n",
    "https://towardsdatascience.com/using-machine-learning-to-predict-kickstarter-success-e371ab56a743"
   ]
  }
 ],
 "metadata": {
  "kernelspec": {
   "display_name": "Python 3",
   "language": "python",
   "name": "python3"
  },
  "language_info": {
   "codemirror_mode": {
    "name": "ipython",
    "version": 3
   },
   "file_extension": ".py",
   "mimetype": "text/x-python",
   "name": "python",
   "nbconvert_exporter": "python",
   "pygments_lexer": "ipython3",
   "version": "3.8.3"
  },
  "toc": {
   "base_numbering": 1,
   "nav_menu": {},
   "number_sections": true,
   "sideBar": true,
   "skip_h1_title": false,
   "title_cell": "Table of Contents",
   "title_sidebar": "Contents",
   "toc_cell": false,
   "toc_position": {},
   "toc_section_display": true,
   "toc_window_display": false
  }
 },
 "nbformat": 4,
 "nbformat_minor": 4
}
